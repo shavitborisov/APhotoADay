{
 "cells": [
  {
   "cell_type": "code",
   "execution_count": 16,
   "metadata": {},
   "outputs": [],
   "source": [
    "import os\n",
    "import pickle\n",
    "import PIL.Image\n",
    "import numpy as np\n",
    "import pandas as pd\n",
    "import csv\n",
    "import sys\n",
    "from pathlib import Path\n",
    "\n",
    "# test\n",
    "\n",
    "import matplotlib.pyplot as plt\n",
    "%matplotlib inline\n",
    "\n",
    "# path to stylegan encoder on server\n",
    "sys.path.insert(1, '/home/shavit/APhotoADay/data/stylegan-encoder')\n",
    "\n",
    "import dnnlib\n",
    "import dnnlib.tflib as tflib\n",
    "import config\n",
    "# from encoder.generator_model import Generator\n",
    "\n",
    "from IPython.display import Markdown, display\n",
    "\n",
    "from IPython.display import Markdown, display\n",
    "\n",
    "from sklearn.linear_model import LinearRegression\n",
    "from sklearn.model_selection import train_test_split\n",
    "from sklearn import metrics"
   ]
  },
  {
   "cell_type": "code",
   "execution_count": 17,
   "metadata": {},
   "outputs": [
    {
     "ename": "NameError",
     "evalue": "name 'Generator' is not defined",
     "output_type": "error",
     "traceback": [
      "\u001b[0;31m---------------------------------------------------------------------------\u001b[0m",
      "\u001b[0;31mNameError\u001b[0m                                 Traceback (most recent call last)",
      "\u001b[0;32m<ipython-input-17-5b8e6e491508>\u001b[0m in \u001b[0;36m<module>\u001b[0;34m\u001b[0m\n\u001b[1;32m      5\u001b[0m     \u001b[0mgenerator_network\u001b[0m\u001b[0;34m,\u001b[0m \u001b[0mdiscriminator_network\u001b[0m\u001b[0;34m,\u001b[0m \u001b[0mGs_network\u001b[0m \u001b[0;34m=\u001b[0m \u001b[0mpickle\u001b[0m\u001b[0;34m.\u001b[0m\u001b[0mload\u001b[0m\u001b[0;34m(\u001b[0m\u001b[0mf\u001b[0m\u001b[0;34m)\u001b[0m\u001b[0;34m\u001b[0m\u001b[0;34m\u001b[0m\u001b[0m\n\u001b[1;32m      6\u001b[0m \u001b[0;34m\u001b[0m\u001b[0m\n\u001b[0;32m----> 7\u001b[0;31m \u001b[0mgenerator\u001b[0m \u001b[0;34m=\u001b[0m \u001b[0mGenerator\u001b[0m\u001b[0;34m(\u001b[0m\u001b[0mGs_network\u001b[0m\u001b[0;34m,\u001b[0m \u001b[0mbatch_size\u001b[0m\u001b[0;34m=\u001b[0m\u001b[0;36m1\u001b[0m\u001b[0;34m,\u001b[0m \u001b[0mrandomize_noise\u001b[0m\u001b[0;34m=\u001b[0m\u001b[0;32mFalse\u001b[0m\u001b[0;34m)\u001b[0m\u001b[0;34m\u001b[0m\u001b[0;34m\u001b[0m\u001b[0m\n\u001b[0m",
      "\u001b[0;31mNameError\u001b[0m: name 'Generator' is not defined"
     ]
    }
   ],
   "source": [
    "URL_FFHQ = 'https://drive.google.com/uc?id=1MEGjdvVpUsu1jB4zrXZN7Y4kBBOzizDQ'\n",
    "\n",
    "tflib.init_tf()\n",
    "with dnnlib.util.open_url(URL_FFHQ, cache_dir=config.cache_dir) as f:\n",
    "    generator_network, discriminator_network, Gs_network = pickle.load(f)\n",
    "\n",
    "generator = Generator(Gs_network, batch_size=1, randomize_noise=False)"
   ]
  },
  {
   "cell_type": "code",
   "execution_count": 18,
   "metadata": {},
   "outputs": [],
   "source": [
    "def generate_image(latent_vector, size):\n",
    "    latent_vector = latent_vector.reshape((1, 18, 512))\n",
    "    generator.set_dlatents(latent_vector)\n",
    "    img_array = generator.generate_images()[0]\n",
    "    img = PIL.Image.fromarray(img_array, 'RGB')\n",
    "    return img.resize((size, size))\n",
    "\n",
    "def show(latent_vector):\n",
    "    fig,ax = plt.subplots(1, len(coeffs), figsize=(15, 10), dpi=80)\n",
    "    ax[i].imshow(generate_image(latent_vector))\n",
    "    ax[i].set_title(latent_vector)\n",
    "    [x.axis('off') for x in ax]\n",
    "    plt.show()"
   ]
  },
  {
   "cell_type": "code",
   "execution_count": 36,
   "metadata": {},
   "outputs": [],
   "source": [
    "#    Given a data set of the form\n",
    "#    ((original photo, original age, target age), target photo)\n",
    "#    We take some part of the data set and use it to train a linear model\n",
    "#    We reserve some of the data to test it afterwards\n",
    "\n",
    "#    photos should be npy\n",
    "#    input = lists of the data (should all be the same size and flattened)\n",
    "#    output = linear regression interpolator\n",
    "#    note that data can come from multiple people, the more data, the more accurate\n",
    "\n",
    "def findRegressor(start_photos, start_ages, target_ages, target_photos):\n",
    "\n",
    "    X = []\n",
    "    Y = []\n",
    "\n",
    "    for i in range(len(start_photos)):\n",
    "        X.append(np.concatenate([start_photos[i], start_ages[i], target_ages[i]], axis=None))\n",
    "        Y.append(target_photos[i])\n",
    "\n",
    "    X_train, X_test, Y_train, Y_test = train_test_split(X, Y, test_size=0.2, random_state=0)\n",
    "\n",
    "    regressor = LinearRegression()  \n",
    "    regressor.fit(X_train, Y_train)\n",
    "\n",
    "    #print(\"accuracy = \" + str(testModel(X_train, Y_train, regressor)))\n",
    "\n",
    "    return regressor, X_test, Y_test\n",
    "\n",
    "#    input = list of data to test on and regressor to test\n",
    "#    output = accuracy in MSE\n",
    "def testModel(X, Y, regressor):\n",
    "\n",
    "    Y_pred = regressor.predict (X)\n",
    "    return Y_pred"
   ]
  },
  {
   "cell_type": "code",
   "execution_count": 20,
   "metadata": {},
   "outputs": [],
   "source": [
    "# TESTING FROM HERE DOWN REMOVE THIS DURING USE #\n",
    "\n",
    "# data1 = []\n",
    "# data2 = []\n",
    "# data3 = []\n",
    "\n",
    "# results = []\n",
    "# for i in range(1000):\n",
    "#     data1.append(np.array(np.random.rand()))\n",
    "#     data2.append(np.array(np.random.rand()))\n",
    "#     data3.append(np.array(np.random.rand()))\n",
    "#     results.append(np.array([np.power(data1[i], 1),data2[i], data3[i]]))\n",
    "\n",
    "# print(np.around(data1, decimals=3))\n",
    "# print(np.around(data2, decimals=3))\n",
    "# print(np.around(data3, decimals=3))\n",
    "# print(np.around(results, decimals=3))\n",
    "\n",
    "# regressor, X_test, Y_test = findInterpolator(data1, data2, data3, results)\n",
    "\n",
    "# print (testModel(X_test, Y_test, regressor))"
   ]
  },
  {
   "cell_type": "code",
   "execution_count": 43,
   "metadata": {},
   "outputs": [
    {
     "name": "stdin",
     "output_type": "stream",
     "text": [
      "Enter number of people:  1\n"
     ]
    },
    {
     "name": "stdout",
     "output_type": "stream",
     "text": [
      "(9218,)\n",
      "[[8000.0, 0.014663009], [7390.0, 0.008961048], [8520.0, 0.010992867], [7570.0, 0.009705851], [8290.0, 0.009262237], [7600.0, 0.009946018], [7120.0, 0.0093971295], [8030.0, 0.008732627], [8350.0, 0.0077429265], [7010.0, 0.007885397], [6990.0, 0.006899232], [8560.0, 0.01037017], [8470.0, 0.008663521], [8700.0, 0.007514693], [8120.0, 0.008629149], [7910.0, 0.0072339824], [7310.0, 0.0082244715], [7870.0, 0.008253856], [8280.0, 0.00816403], [8200.0, 0.0083583705], [7490.0, 0.0101454295], [7770.0, 0.008558638], [7500.0, 0.007643937], [8430.0, 0.009189777], [8610.0, 0.0094704665], [8570.0, 0.0077044484], [7680.0, 0.018287957], [8050.0, 0.008303468], [8650.0, 0.0066871205], [7270.0, 0.009525506], [6980.0, 0.014954459], [8150.0, 0.0071538305], [8620.0, 0.0171627], [7550.0, 0.017385542], [7380.0, 0.009354059], [7200.0, 0.009568165], [8790.0, 0.009241866], [8300.0, 0.010487518]]\n"
     ]
    }
   ],
   "source": [
    "# Receive input\n",
    "\n",
    "os.chdir(\"/home/shavit/APhotoADay/True_vs_Learned\")\n",
    "\n",
    "num_of_people = int(input(\"Enter number of people: \"))\n",
    "\n",
    "paths = []\n",
    "\n",
    "for person in range(num_of_people):\n",
    "#     paths.append(\"regression_data/\" + input(\"Enter path for data for person \" + str(person + 1) + \": \"))\n",
    "    paths.append(\"regression_data/video\" + str(person + 1))\n",
    "    \n",
    "start_photos = []\n",
    "start_ages = []\n",
    "target_ages = []\n",
    "target_photos = []\n",
    "\n",
    "first = []\n",
    "first_age = []\n",
    "\n",
    "for person in range(num_of_people):\n",
    "    unsorted_files = os.listdir(paths[person])\n",
    "    naked_files = sorted(unsorted_files, key=lambda x: int(os.path.splitext(x)[0]))\n",
    "    \n",
    "    files = []\n",
    "    \n",
    "    for file in naked_files:\n",
    "        files.append(paths[person] + \"/\" + file)\n",
    "    \n",
    "    first.append(np.load(files[0]).flatten())\n",
    "    first_age.append(int(Path(files[0]).stem))\n",
    "    \n",
    "    for i in range(len(files)):\n",
    "        start_photos.append(first[person])\n",
    "        start_ages.append(first_age[person])\n",
    "        target_ages.append(int(Path(files[i]).stem))\n",
    "        target_photos.append(np.load(files[i]).flatten())\n",
    "        \n",
    "#for i in range (len(start_photos)):\n",
    "#    print(start_photos[i], start_ages[i], target_ages[i], target_photos[i])\n",
    "    \n",
    "regressor, X_test, Y_test = findRegressor(start_photos, start_ages, target_ages, target_photos)\n",
    "\n",
    "Y_pred = testModel(X_test, Y_test, regressor)\n",
    "MSE = metrics.mean_squared_error (Y_test, Y_pred)\n",
    "\n",
    "print (X_test[0].shape)\n",
    "\n",
    "# New code\n",
    "age_specific_MSE = []\n",
    "\n",
    "for i, age in enumerate(Y_pred):\n",
    "    this_MSE = metrics.mean_squared_error (np.array(Y_pred[i]), np.array(Y_test[i]))\n",
    "    age_specific_MSE.append([X_test[i][9217], this_MSE])\n",
    "\n",
    "print(age_specific_MSE)"
   ]
  },
  {
   "cell_type": "code",
   "execution_count": null,
   "metadata": {},
   "outputs": [],
   "source": [
    "# generate examples\n",
    "\n",
    "\n",
    "# experiment = \"video\" + num_of_vid + \"_plot_\" + str(start_age) + \"_to_\" + str(end_age) + \"_batch=\" + str(averaging_ratio) + \"_dimensions=\" + (\"default\" if (num_dimensions == 0) else str(num_dimensions)) + \"_method=\" + (\"standard\" if (method == 0) else (\"puzer\" if (method == 1) else \"regression\"))\n",
    "# printmd(\"\\n\\n**Running experiment: \" + experiment + \"**\", color=\"blue\")\n",
    "\n",
    "# if not os.path.exists(\"Results/\" + experiment):\n",
    "#     os.mkdir(\"Results/\" + experiment)"
   ]
  },
  {
   "cell_type": "code",
   "execution_count": 32,
   "metadata": {},
   "outputs": [
    {
     "ename": "KeyboardInterrupt",
     "evalue": "Interrupted by user",
     "output_type": "error",
     "traceback": [
      "\u001b[0;31m---------------------------------------------------------------------------\u001b[0m",
      "\u001b[0;31mKeyboardInterrupt\u001b[0m                         Traceback (most recent call last)",
      "\u001b[0;32m<ipython-input-32-d7373f909c04>\u001b[0m in \u001b[0;36m<module>\u001b[0;34m\u001b[0m\n\u001b[1;32m      6\u001b[0m \u001b[0;34m\u001b[0m\u001b[0m\n\u001b[1;32m      7\u001b[0m \u001b[0mt_first\u001b[0m \u001b[0;34m=\u001b[0m \u001b[0mnp\u001b[0m\u001b[0;34m.\u001b[0m\u001b[0mload\u001b[0m\u001b[0;34m(\u001b[0m\u001b[0;34m\"regression_data/test/kobi.npy\"\u001b[0m\u001b[0;34m)\u001b[0m\u001b[0;34m.\u001b[0m\u001b[0mflatten\u001b[0m\u001b[0;34m(\u001b[0m\u001b[0;34m)\u001b[0m\u001b[0;34m\u001b[0m\u001b[0;34m\u001b[0m\u001b[0m\n\u001b[0;32m----> 8\u001b[0;31m \u001b[0mt_first_age\u001b[0m \u001b[0;34m=\u001b[0m \u001b[0mint\u001b[0m\u001b[0;34m(\u001b[0m\u001b[0minput\u001b[0m\u001b[0;34m(\u001b[0m\u001b[0;34m\"Enter your age (years): \"\u001b[0m\u001b[0;34m)\u001b[0m\u001b[0;34m)\u001b[0m \u001b[0;34m*\u001b[0m \u001b[0;36m365\u001b[0m\u001b[0;34m\u001b[0m\u001b[0;34m\u001b[0m\u001b[0m\n\u001b[0m\u001b[1;32m      9\u001b[0m \u001b[0;34m\u001b[0m\u001b[0m\n\u001b[1;32m     10\u001b[0m \u001b[0;32mfor\u001b[0m \u001b[0mi\u001b[0m \u001b[0;32min\u001b[0m \u001b[0mrange\u001b[0m \u001b[0;34m(\u001b[0m\u001b[0mt_first_age\u001b[0m\u001b[0;34m,\u001b[0m \u001b[0mt_first_age\u001b[0m \u001b[0;34m*\u001b[0m \u001b[0;36m2\u001b[0m\u001b[0;34m,\u001b[0m \u001b[0;36m10\u001b[0m\u001b[0;34m)\u001b[0m\u001b[0;34m:\u001b[0m\u001b[0;34m\u001b[0m\u001b[0;34m\u001b[0m\u001b[0m\n",
      "\u001b[0;32m~/.local/lib/python3.6/site-packages/ipykernel/kernelbase.py\u001b[0m in \u001b[0;36mraw_input\u001b[0;34m(self, prompt)\u001b[0m\n\u001b[1;32m    861\u001b[0m             \u001b[0mself\u001b[0m\u001b[0;34m.\u001b[0m\u001b[0m_parent_ident\u001b[0m\u001b[0;34m,\u001b[0m\u001b[0;34m\u001b[0m\u001b[0;34m\u001b[0m\u001b[0m\n\u001b[1;32m    862\u001b[0m             \u001b[0mself\u001b[0m\u001b[0;34m.\u001b[0m\u001b[0m_parent_header\u001b[0m\u001b[0;34m,\u001b[0m\u001b[0;34m\u001b[0m\u001b[0;34m\u001b[0m\u001b[0m\n\u001b[0;32m--> 863\u001b[0;31m             \u001b[0mpassword\u001b[0m\u001b[0;34m=\u001b[0m\u001b[0;32mFalse\u001b[0m\u001b[0;34m,\u001b[0m\u001b[0;34m\u001b[0m\u001b[0;34m\u001b[0m\u001b[0m\n\u001b[0m\u001b[1;32m    864\u001b[0m         )\n\u001b[1;32m    865\u001b[0m \u001b[0;34m\u001b[0m\u001b[0m\n",
      "\u001b[0;32m~/.local/lib/python3.6/site-packages/ipykernel/kernelbase.py\u001b[0m in \u001b[0;36m_input_request\u001b[0;34m(self, prompt, ident, parent, password)\u001b[0m\n\u001b[1;32m    891\u001b[0m             \u001b[0;32mexcept\u001b[0m \u001b[0mKeyboardInterrupt\u001b[0m\u001b[0;34m:\u001b[0m\u001b[0;34m\u001b[0m\u001b[0;34m\u001b[0m\u001b[0m\n\u001b[1;32m    892\u001b[0m                 \u001b[0;31m# re-raise KeyboardInterrupt, to truncate traceback\u001b[0m\u001b[0;34m\u001b[0m\u001b[0;34m\u001b[0m\u001b[0;34m\u001b[0m\u001b[0m\n\u001b[0;32m--> 893\u001b[0;31m                 \u001b[0;32mraise\u001b[0m \u001b[0mKeyboardInterrupt\u001b[0m\u001b[0;34m(\u001b[0m\u001b[0;34m\"Interrupted by user\"\u001b[0m\u001b[0;34m)\u001b[0m \u001b[0;32mfrom\u001b[0m \u001b[0;32mNone\u001b[0m\u001b[0;34m\u001b[0m\u001b[0;34m\u001b[0m\u001b[0m\n\u001b[0m\u001b[1;32m    894\u001b[0m             \u001b[0;32melse\u001b[0m\u001b[0;34m:\u001b[0m\u001b[0;34m\u001b[0m\u001b[0;34m\u001b[0m\u001b[0m\n\u001b[1;32m    895\u001b[0m                 \u001b[0;32mbreak\u001b[0m\u001b[0;34m\u001b[0m\u001b[0;34m\u001b[0m\u001b[0m\n",
      "\u001b[0;31mKeyboardInterrupt\u001b[0m: Interrupted by user"
     ]
    }
   ],
   "source": [
    "# Video from given picture, using our data (which specific data exactly?)\n",
    "\n",
    "t_start_photos = []\n",
    "t_start_ages = []\n",
    "t_target_ages = []\n",
    "    \n",
    "t_first = np.load(\"regression_data/test/kobi.npy\").flatten()\n",
    "t_first_age = int(input(\"Enter your age (years): \")) * 365\n",
    "\n",
    "for i in range (t_first_age, t_first_age * 2, 10):\n",
    "    t_start_photos.append(t_first)\n",
    "    t_start_ages.append(t_first_age)\n",
    "    t_target_ages.append(i)\n",
    "\n",
    "t_X = []\n",
    "for i in range(len(t_start_photos)):\n",
    "    t_X.append(np.concatenate([t_start_photos[i], t_start_ages[i], t_target_ages[i]], axis=None))\n",
    "\n",
    "results_path = \"regression_data/results\"\n",
    "\n",
    "t_Y = regressor.predict(t_X)\n",
    "\n",
    "if not os.path.exists(results_path):\n",
    "    os.mkdir(results_path)\n",
    "\n",
    "for i, prediction in enumerate(t_Y):\n",
    "    img = generate_image(prediction, 512)\n",
    "    img.save(results_path + \"/\" + str(i) + \".png\")"
   ]
  },
  {
   "cell_type": "code",
   "execution_count": 19,
   "metadata": {},
   "outputs": [
    {
     "ename": "SyntaxError",
     "evalue": "invalid syntax (<ipython-input-19-2ba3b72d5703>, line 10)",
     "output_type": "error",
     "traceback": [
      "\u001b[0;36m  File \u001b[0;32m\"<ipython-input-19-2ba3b72d5703>\"\u001b[0;36m, line \u001b[0;32m10\u001b[0m\n\u001b[0;31m    python3 ../rename3.py . 0\u001b[0m\n\u001b[0m             ^\u001b[0m\n\u001b[0;31mSyntaxError\u001b[0m\u001b[0;31m:\u001b[0m invalid syntax\n"
     ]
    }
   ],
   "source": [
    "# Display GIFs. This is --NOT-- Python code; It should be run from termianl.\n",
    "\n",
    "\n",
    "# python3 ../rename3.py . 0\n",
    "\n",
    "# ffmpeg -f image2 -framerate 75 -pattern_type sequence -start_number 0 -r 2 -i %d.png -vcodec libx264 -acodec aac real_broken.mp4\n",
    "\n",
    "# ffmpeg -i real_broken.mp4 -c:v libx264 -profile:v baseline -level 3.0 -pix_fmt yuv420p real.mp4\n",
    "\n",
    "# ffmpeg -itsscale 0.027 -i real.mp4 -c copy real_output.mp4"
   ]
  },
  {
   "cell_type": "code",
   "execution_count": null,
   "metadata": {},
   "outputs": [],
   "source": [
    "# Older attempt at displaying GIFs\n",
    "\n",
    "# def gif_create(delay, path_to_frames, output):\n",
    "#     os.system(\"convert -delay \" + delay + \" -loop 0 \" + path_to_frames + \"/*.png Results/\" + experiment + \"/\" + output + \".gif\")\n",
    "\n",
    "# gif_create(\"10\", real_data_path, \"real\")\n",
    "# gif_create(\"10\", fake_data_path, \"fake\")"
   ]
  }
 ],
 "metadata": {
  "kernelspec": {
   "display_name": "Python 3",
   "language": "python",
   "name": "python3"
  },
  "language_info": {
   "codemirror_mode": {
    "name": "ipython",
    "version": 3
   },
   "file_extension": ".py",
   "mimetype": "text/x-python",
   "name": "python",
   "nbconvert_exporter": "python",
   "pygments_lexer": "ipython3",
   "version": "3.6.9"
  }
 },
 "nbformat": 4,
 "nbformat_minor": 4
}
