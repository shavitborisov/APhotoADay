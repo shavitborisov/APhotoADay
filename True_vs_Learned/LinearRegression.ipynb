{
 "cells": [
  {
   "cell_type": "code",
   "execution_count": 6,
   "metadata": {},
   "outputs": [
    {
     "ename": "ModuleNotFoundError",
     "evalue": "No module named 'PIL'",
     "output_type": "error",
     "traceback": [
      "\u001b[0;31m---------------------------------------------------------------------------\u001b[0m",
      "\u001b[0;31mModuleNotFoundError\u001b[0m                       Traceback (most recent call last)",
      "\u001b[0;32m<ipython-input-6-94c702df322f>\u001b[0m in \u001b[0;36m<module>\u001b[0;34m\u001b[0m\n\u001b[1;32m      2\u001b[0m \u001b[0;32mimport\u001b[0m \u001b[0mpickle\u001b[0m\u001b[0;34m\u001b[0m\u001b[0;34m\u001b[0m\u001b[0m\n\u001b[1;32m      3\u001b[0m \u001b[0;31m# import Image\u001b[0m\u001b[0;34m\u001b[0m\u001b[0;34m\u001b[0m\u001b[0;34m\u001b[0m\u001b[0m\n\u001b[0;32m----> 4\u001b[0;31m \u001b[0;32mimport\u001b[0m \u001b[0mPIL\u001b[0m\u001b[0;34m.\u001b[0m\u001b[0mImage\u001b[0m\u001b[0;34m\u001b[0m\u001b[0;34m\u001b[0m\u001b[0m\n\u001b[0m\u001b[1;32m      5\u001b[0m \u001b[0;32mimport\u001b[0m \u001b[0mnumpy\u001b[0m \u001b[0;32mas\u001b[0m \u001b[0mnp\u001b[0m\u001b[0;34m\u001b[0m\u001b[0;34m\u001b[0m\u001b[0m\n\u001b[1;32m      6\u001b[0m \u001b[0;32mimport\u001b[0m \u001b[0mpandas\u001b[0m \u001b[0;32mas\u001b[0m \u001b[0mpd\u001b[0m\u001b[0;34m\u001b[0m\u001b[0;34m\u001b[0m\u001b[0m\n",
      "\u001b[0;31mModuleNotFoundError\u001b[0m: No module named 'PIL'"
     ]
    }
   ],
   "source": [
    "import os\n",
    "import pickle\n",
    "# import Image\n",
    "import PIL.Image\n",
    "import numpy as np\n",
    "import pandas as pd\n",
    "import csv\n",
    "import sys\n",
    "from pathlib import Path\n",
    "\n",
    "# test\n",
    "\n",
    "import matplotlib.pyplot as plt\n",
    "%matplotlib inline\n",
    "\n",
    "# path to stylegan encoder locally\n",
    "sys.path.insert(1, '/home/shavit/APhotoADay/data/stylegan-encoder')\n",
    "\n",
    "import dnnlib\n",
    "import dnnlib.tflib as tflib\n",
    "import config\n",
    "from encoder.generator_model import Generator\n",
    "\n",
    "from IPython.display import Markdown, display\n",
    "\n",
    "from IPython.display import Markdown, display\n",
    "\n",
    "from sklearn.linear_model import LinearRegression\n",
    "from sklearn.model_selection import train_test_split\n",
    "from sklearn import metrics"
   ]
  },
  {
   "cell_type": "code",
   "execution_count": 7,
   "metadata": {},
   "outputs": [
    {
     "ename": "NameError",
     "evalue": "name 'tflib' is not defined",
     "output_type": "error",
     "traceback": [
      "\u001b[0;31m---------------------------------------------------------------------------\u001b[0m",
      "\u001b[0;31mNameError\u001b[0m                                 Traceback (most recent call last)",
      "\u001b[0;32m<ipython-input-7-5b8e6e491508>\u001b[0m in \u001b[0;36m<module>\u001b[0;34m\u001b[0m\n\u001b[1;32m      1\u001b[0m \u001b[0mURL_FFHQ\u001b[0m \u001b[0;34m=\u001b[0m \u001b[0;34m'https://drive.google.com/uc?id=1MEGjdvVpUsu1jB4zrXZN7Y4kBBOzizDQ'\u001b[0m\u001b[0;34m\u001b[0m\u001b[0;34m\u001b[0m\u001b[0m\n\u001b[1;32m      2\u001b[0m \u001b[0;34m\u001b[0m\u001b[0m\n\u001b[0;32m----> 3\u001b[0;31m \u001b[0mtflib\u001b[0m\u001b[0;34m.\u001b[0m\u001b[0minit_tf\u001b[0m\u001b[0;34m(\u001b[0m\u001b[0;34m)\u001b[0m\u001b[0;34m\u001b[0m\u001b[0;34m\u001b[0m\u001b[0m\n\u001b[0m\u001b[1;32m      4\u001b[0m \u001b[0;32mwith\u001b[0m \u001b[0mdnnlib\u001b[0m\u001b[0;34m.\u001b[0m\u001b[0mutil\u001b[0m\u001b[0;34m.\u001b[0m\u001b[0mopen_url\u001b[0m\u001b[0;34m(\u001b[0m\u001b[0mURL_FFHQ\u001b[0m\u001b[0;34m,\u001b[0m \u001b[0mcache_dir\u001b[0m\u001b[0;34m=\u001b[0m\u001b[0mconfig\u001b[0m\u001b[0;34m.\u001b[0m\u001b[0mcache_dir\u001b[0m\u001b[0;34m)\u001b[0m \u001b[0;32mas\u001b[0m \u001b[0mf\u001b[0m\u001b[0;34m:\u001b[0m\u001b[0;34m\u001b[0m\u001b[0;34m\u001b[0m\u001b[0m\n\u001b[1;32m      5\u001b[0m     \u001b[0mgenerator_network\u001b[0m\u001b[0;34m,\u001b[0m \u001b[0mdiscriminator_network\u001b[0m\u001b[0;34m,\u001b[0m \u001b[0mGs_network\u001b[0m \u001b[0;34m=\u001b[0m \u001b[0mpickle\u001b[0m\u001b[0;34m.\u001b[0m\u001b[0mload\u001b[0m\u001b[0;34m(\u001b[0m\u001b[0mf\u001b[0m\u001b[0;34m)\u001b[0m\u001b[0;34m\u001b[0m\u001b[0;34m\u001b[0m\u001b[0m\n",
      "\u001b[0;31mNameError\u001b[0m: name 'tflib' is not defined"
     ]
    }
   ],
   "source": [
    "URL_FFHQ = 'https://drive.google.com/uc?id=1MEGjdvVpUsu1jB4zrXZN7Y4kBBOzizDQ'\n",
    "\n",
    "tflib.init_tf()\n",
    "with dnnlib.util.open_url(URL_FFHQ, cache_dir=config.cache_dir) as f:\n",
    "    generator_network, discriminator_network, Gs_network = pickle.load(f)\n",
    "\n",
    "generator = Generator(Gs_network, batch_size=1, randomize_noise=False)"
   ]
  },
  {
   "cell_type": "code",
   "execution_count": 3,
   "metadata": {},
   "outputs": [],
   "source": [
    "def generate_image(latent_vector, size):\n",
    "    latent_vector = latent_vector.reshape((1, 18, 512))\n",
    "    generator.set_dlatents(latent_vector)\n",
    "    img_array = generator.generate_images()[0]\n",
    "    img = PIL.Image.fromarray(img_array, 'RGB')\n",
    "    return img.resize((size, size))\n",
    "\n",
    "def show(latent_vector):\n",
    "    fig,ax = plt.subplots(1, len(coeffs), figsize=(15, 10), dpi=80)\n",
    "    ax[i].imshow(generate_image(latent_vector))\n",
    "    ax[i].set_title(latent_vector)\n",
    "    [x.axis('off') for x in ax]\n",
    "    plt.show()"
   ]
  },
  {
   "cell_type": "code",
   "execution_count": 4,
   "metadata": {},
   "outputs": [],
   "source": [
    "#    Given a data set of the form\n",
    "#    ((original photo, original age, target age), target photo)\n",
    "#    We take some part of the data set and use it to train a linear model\n",
    "#    We reserve some of the data to test it afterwards\n",
    "\n",
    "#    photos should be npy\n",
    "#    input = lists of the data (should all be the same size and flattened)\n",
    "#    output = linear regression interpolator\n",
    "#    note that data can come from multiple people, the more data, the more accurate\n",
    "def findRegressor(start_photos, start_ages, target_ages, target_photos):\n",
    "\n",
    "    X = []\n",
    "    Y = []\n",
    "\n",
    "    for i in range(len(start_photos)):\n",
    "        X.append(np.concatenate([start_photos[i], start_ages[i], target_ages[i]], axis=None))\n",
    "        Y.append(target_photos[i])\n",
    "    \n",
    "\n",
    "    X_train, X_test, Y_train, Y_test = train_test_split(X, Y, test_size=0.2, random_state=0)\n",
    "\n",
    "    regressor = LinearRegression()  \n",
    "    regressor.fit(X_train, Y_train)\n",
    "\n",
    "    #print(\"accuracy = \" + str(testModel(X_train, Y_train, regressor)))\n",
    "\n",
    "    return regressor, X_test, Y_test\n",
    "\n",
    "#    input = list of data to test on and regressor to test\n",
    "#    output = accuracy in MSE\n",
    "def testModel(X, Y, regressor):\n",
    "\n",
    "    Y_pred = regressor.predict (X)\n",
    "    return Y_pred\n",
    "\n",
    "\n",
    "# TESTING FROM HERE DOWN REMOVE THIS DURING USE #\n",
    "\n",
    "\n",
    "# data1 = []\n",
    "# data2 = []\n",
    "# data3 = []\n",
    "\n",
    "# results = []\n",
    "# for i in range(1000):\n",
    "#     data1.append(np.array(np.random.rand()))\n",
    "#     data2.append(np.array(np.random.rand()))\n",
    "#     data3.append(np.array(np.random.rand()))\n",
    "#     results.append(np.array([np.power(data1[i], 1),data2[i], data3[i]]))\n",
    "\n",
    "# print(np.around(data1, decimals=3))\n",
    "# print(np.around(data2, decimals=3))\n",
    "# print(np.around(data3, decimals=3))\n",
    "# print(np.around(results, decimals=3))\n",
    "\n",
    "# regressor, X_test, Y_test = findInterpolator(data1, data2, data3, results)\n",
    "\n",
    "# print (testModel(X_test, Y_test, regressor))"
   ]
  },
  {
   "cell_type": "code",
   "execution_count": 5,
   "metadata": {},
   "outputs": [
    {
     "ename": "FileNotFoundError",
     "evalue": "[Errno 2] No such file or directory: '/home/bobby/APhotoADay/True_vs_Learned'",
     "output_type": "error",
     "traceback": [
      "\u001b[0;31m---------------------------------------------------------------------------\u001b[0m",
      "\u001b[0;31mFileNotFoundError\u001b[0m                         Traceback (most recent call last)",
      "\u001b[0;32m<ipython-input-5-e36af634c887>\u001b[0m in \u001b[0;36m<module>\u001b[0;34m\u001b[0m\n\u001b[1;32m      1\u001b[0m \u001b[0;31m# Receive input\u001b[0m\u001b[0;34m\u001b[0m\u001b[0;34m\u001b[0m\u001b[0;34m\u001b[0m\u001b[0m\n\u001b[1;32m      2\u001b[0m \u001b[0;34m\u001b[0m\u001b[0m\n\u001b[0;32m----> 3\u001b[0;31m \u001b[0mos\u001b[0m\u001b[0;34m.\u001b[0m\u001b[0mchdir\u001b[0m\u001b[0;34m(\u001b[0m\u001b[0;34m\"/home/bobby/APhotoADay/True_vs_Learned\"\u001b[0m\u001b[0;34m)\u001b[0m\u001b[0;34m\u001b[0m\u001b[0;34m\u001b[0m\u001b[0m\n\u001b[0m\u001b[1;32m      4\u001b[0m \u001b[0;34m\u001b[0m\u001b[0m\n\u001b[1;32m      5\u001b[0m \u001b[0mnum_of_people\u001b[0m \u001b[0;34m=\u001b[0m \u001b[0mint\u001b[0m\u001b[0;34m(\u001b[0m\u001b[0minput\u001b[0m\u001b[0;34m(\u001b[0m\u001b[0;34m\"Enter number of people: \"\u001b[0m\u001b[0;34m)\u001b[0m\u001b[0;34m)\u001b[0m\u001b[0;34m\u001b[0m\u001b[0;34m\u001b[0m\u001b[0m\n",
      "\u001b[0;31mFileNotFoundError\u001b[0m: [Errno 2] No such file or directory: '/home/bobby/APhotoADay/True_vs_Learned'"
     ]
    }
   ],
   "source": [
    "# Receive input\n",
    "\n",
    "os.chdir(\"/home/bobby/APhotoADay/True_vs_Learned\")\n",
    "\n",
    "num_of_people = int(input(\"Enter number of people: \"))\n",
    "\n",
    "paths = []\n",
    "\n",
    "for person in range(num_of_people):\n",
    "#     paths.append(\"regression_data/\" + input(\"Enter path for data for person \" + str(person + 1) + \": \"))\n",
    "    paths.append(\"regression_data/video\" + str(person + 1))\n",
    "    \n",
    "start_photos = []\n",
    "start_ages = []\n",
    "target_ages = []\n",
    "target_photos = []\n",
    "\n",
    "first = []\n",
    "first_age = []\n",
    "\n",
    "for person in range(num_of_people):\n",
    "    unsorted_files = os.listdir(paths[person])\n",
    "    naked_files = sorted(unsorted_files, key=lambda x: int(os.path.splitext(x)[0]))\n",
    "    \n",
    "    files = []\n",
    "    \n",
    "    for file in naked_files:\n",
    "        files.append(paths[person] + \"/\" + file)\n",
    "    \n",
    "    first.append(np.load(files[0]).flatten())\n",
    "    first_age.append(int(Path(files[0]).stem))\n",
    "    \n",
    "    for i in range(1, len(files)):\n",
    "        start_photos.append(first[person])\n",
    "        start_ages.append(first_age[person])\n",
    "        target_ages.append(int(Path(files[i]).stem))\n",
    "        target_photos.append(np.load(files[i]).flatten())\n",
    "        \n",
    "#for i in range (len(start_photos)):\n",
    "#    print(start_photos[i], start_ages[i], target_ages[i], target_photos[i])\n",
    "    \n",
    "    \n",
    "regressor, X_test, Y_test = findRegressor(start_photos, start_ages, target_ages, target_photos)\n",
    "\n",
    "Y_pred = testModel(X_test, Y_test, regressor)\n",
    "MSE = metrics.mean_squared_error (Y_test, Y_pred)\n",
    "print (MSE)\n",
    "\n",
    "\n",
    "# generate examples\n",
    "\n",
    "\n",
    "# experiment = \"video\" + num_of_vid + \"_plot_\" + str(start_age) + \"_to_\" + str(end_age) + \"_batch=\" + str(averaging_ratio) + \"_dimensions=\" + (\"default\" if (num_dimensions == 0) else str(num_dimensions)) + \"_method=\" + (\"standard\" if (method == 0) else (\"puzer\" if (method == 1) else \"regression\"))\n",
    "# printmd(\"\\n\\n**Running experiment: \" + experiment + \"**\", color=\"blue\")\n",
    "\n",
    "# if not os.path.exists(\"Results/\" + experiment):\n",
    "#     os.mkdir(\"Results/\" + experiment)"
   ]
  },
  {
   "cell_type": "code",
   "execution_count": 21,
   "metadata": {},
   "outputs": [
    {
     "name": "stdout",
     "output_type": "stream",
     "text": [
      "Enter your age: 4380\n"
     ]
    }
   ],
   "source": [
    "t_start_photos = []\n",
    "t_start_ages = []\n",
    "t_target_ages = []\n",
    "    \n",
    "t_first = np.load(\"regression_data/test/1.npy\").flatten()\n",
    "t_first_age = int(input(\"Enter your age: \"))\n",
    "\n",
    "for i in range (t_first_age, t_first_age * 2, 10):\n",
    "    t_start_photos.append(t_first)\n",
    "    t_start_ages.append(t_first_age)\n",
    "    t_target_ages.append(i)\n",
    "\n",
    "t_X = []\n",
    "for i in range(len(t_start_photos)):\n",
    "    t_X.append(np.concatenate([t_start_photos[i], t_start_ages[i], t_target_ages[i]], axis=None))\n",
    "\n",
    "results_path = \"regression_data/results\"\n",
    "\n",
    "t_Y = regressor.predict(t_X)\n",
    "\n",
    "if not os.path.exists(results_path):\n",
    "    os.mkdir(results_path)\n",
    "\n",
    "for i, prediction in enumerate(t_Y):\n",
    "    img = generate_image(prediction, 512)\n",
    "    img.save(results_path + \"/\" + str(i) + \".png\")"
   ]
  },
  {
   "cell_type": "code",
   "execution_count": 19,
   "metadata": {},
   "outputs": [
    {
     "ename": "SyntaxError",
     "evalue": "invalid syntax (<ipython-input-19-2ba3b72d5703>, line 10)",
     "output_type": "error",
     "traceback": [
      "\u001b[0;36m  File \u001b[0;32m\"<ipython-input-19-2ba3b72d5703>\"\u001b[0;36m, line \u001b[0;32m10\u001b[0m\n\u001b[0;31m    python3 ../rename3.py . 0\u001b[0m\n\u001b[0m             ^\u001b[0m\n\u001b[0;31mSyntaxError\u001b[0m\u001b[0;31m:\u001b[0m invalid syntax\n"
     ]
    }
   ],
   "source": [
    "# Display GIFs\n",
    "\n",
    "# def gif_create(delay, path_to_frames, output):\n",
    "#     os.system(\"convert -delay \" + delay + \" -loop 0 \" + path_to_frames + \"/*.png Results/\" + experiment + \"/\" + output + \".gif\")\n",
    "\n",
    "# gif_create(\"10\", real_data_path, \"real\")\n",
    "# gif_create(\"10\", fake_data_path, \"fake\")\n",
    "\n",
    "\n",
    "python3 ../rename3.py . 0\n",
    "\n",
    "ffmpeg -f image2 -framerate 75 -pattern_type sequence -start_number 0 -r 2 -i %d.png -vcodec libx264 -acodec aac real_broken.mp4\n",
    "\n",
    "ffmpeg -i real_broken.mp4 -c:v libx264 -profile:v baseline -level 3.0 -pix_fmt yuv420p real.mp4\n",
    "\n",
    "ffmpeg -itsscale 0.027 -i real.mp4 -c copy real_output.mp4"
   ]
  },
  {
   "cell_type": "code",
   "execution_count": null,
   "metadata": {},
   "outputs": [],
   "source": []
  }
 ],
 "metadata": {
  "kernelspec": {
   "display_name": "Python 3",
   "language": "python",
   "name": "python3"
  },
  "language_info": {
   "codemirror_mode": {
    "name": "ipython",
    "version": 3
   },
   "file_extension": ".py",
   "mimetype": "text/x-python",
   "name": "python",
   "nbconvert_exporter": "python",
   "pygments_lexer": "ipython3",
   "version": "3.6.9"
  }
 },
 "nbformat": 4,
 "nbformat_minor": 4
}
