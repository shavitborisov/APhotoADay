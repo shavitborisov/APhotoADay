{
 "cells": [
  {
   "cell_type": "code",
   "execution_count": 1,
   "metadata": {},
   "outputs": [],
   "source": [
    "import os\n",
    "import pickle\n",
    "import PIL.Image\n",
    "import numpy as np\n",
    "import pandas as pd\n",
    "import csv\n",
    "import sys\n",
    "\n",
    "import matplotlib.pyplot as plt\n",
    "%matplotlib inline"
   ]
  },
  {
   "cell_type": "code",
   "execution_count": 2,
   "metadata": {},
   "outputs": [
    {
     "name": "stdout",
     "output_type": "stream",
     "text": [
      "Enter path for real data: real_data\n",
      "Enter path for real latent: real_latent\n",
      "Enter start age (days): 6940\n",
      "Enter end age (days): 8790\n",
      "Enter video number: 1\n"
     ]
    }
   ],
   "source": [
    "# Receive input\n",
    "\n",
    "real_data_path = input(\"Enter path for real data: \")\n",
    "real_latent_path = input(\"Enter path for real latent: \")\n",
    "start_age = int(input(\"Enter start age (days): \"))\n",
    "end_age = int(input(\"Enter end age (days): \"))\n",
    "num_of_vid = input(\"Enter video number: \")\n",
    "\n",
    "experiment = \"video\" + num_of_vid + \"_plot_\" + str(start_age) + \"_to_\" + str(end_age)\n",
    "\n",
    "if not os.path.exists(\"Results/\" + experiment):\n",
    "    os.mkdir(\"Results/\" + experiment)"
   ]
  },
  {
   "cell_type": "code",
   "execution_count": 3,
   "metadata": {},
   "outputs": [],
   "source": [
    "def findInterpolator(start, end):\n",
    "\n",
    "    def interpolator(coefficient):\n",
    "        return ((end - start) * coefficient) + start\n",
    "\n",
    "    return interpolator"
   ]
  },
  {
   "cell_type": "code",
   "execution_count": 4,
   "metadata": {},
   "outputs": [],
   "source": [
    "flatten = lambda l: [item for sublist in l for item in sublist]"
   ]
  },
  {
   "cell_type": "code",
   "execution_count": 7,
   "metadata": {},
   "outputs": [],
   "source": [
    "def findError(real, interpolator):\n",
    "    line = interpolator(1) - interpolator(0)\n",
    "    \n",
    "    normalizedLine = line * (1/np.linalg.norm(line))\n",
    "    \n",
    "    distanceLine = interpolator(0) - real - (np.dot((interpolator(0) - real), normalizedLine) * normalizedLine)\n",
    "    \n",
    "    return real + distanceLine, np.linalg.norm(distanceLine)"
   ]
  },
  {
   "cell_type": "code",
   "execution_count": 9,
   "metadata": {
    "scrolled": false
   },
   "outputs": [
    {
     "name": "stdout",
     "output_type": "stream",
     "text": [
      "Enter path for fake latent: fake_latent\n"
     ]
    }
   ],
   "source": [
    "# Create fake npy's and csv file\n",
    "\n",
    "fake_latent_path = input(\"Enter path for fake latent: \")\n",
    "\n",
    "if not os.path.exists(fake_latent_path):\n",
    "    os.mkdir(fake_latent_path)\n",
    "\n",
    "csv_file = \"Results/\" + experiment + \"/\" + experiment + \".csv\"\n",
    "\n",
    "real_latent_dir = os.listdir(real_latent_path)\n",
    "files = sorted(real_latent_dir, key=lambda x: int(os.path.splitext(x)[0]))\n",
    "\n",
    "start_age_npy = np.load(real_latent_path + \"/\" + str(start_age) + \".npy\")\n",
    "end_age_npy = np.load(real_latent_path + \"/\" + str(end_age) + \".npy\")\n",
    "\n",
    "interpolator = findInterpolator(start_age_npy.flatten(), end_age_npy.flatten())\n",
    "\n",
    "with open(csv_file, 'w', newline='') as file:\n",
    "    writer = csv.writer(file)\n",
    "    writer.writerow([\"Age\", \"MSE\"])\n",
    "\n",
    "    for real_npy in files:\n",
    "        shape = np.load(real_latent_path + \"/\" + real_npy).shape\n",
    "        fake_npy, MSE = findError(np.load(real_latent_path + \"/\" + real_npy).flatten(), interpolator) # real should be latent\n",
    "        fake_npy_aux = np.reshape(fake_npy, shape)\n",
    "        np.save(fake_latent_path + \"/\" + real_npy, fake_npy_aux)\n",
    "        writer.writerow([real_npy[:-4], MSE])"
   ]
  },
  {
   "cell_type": "code",
   "execution_count": 10,
   "metadata": {
    "scrolled": false
   },
   "outputs": [
    {
     "data": {
      "image/png": "[encoded data removed]",
      "text/plain": [
       "<Figure size 432x288 with 1 Axes>"
      ]
     },
     "metadata": {
      "needs_background": "light"
     },
     "output_type": "display_data"
    }
   ],
   "source": [
    "# Display and save plot\n",
    "\n",
    "data = pd.read_csv(csv_file).set_index('Age')\n",
    "data_plot = data.plot(title = \"Age vs Interpolation Error\", legend = None)\n",
    "\n",
    "data_plot.get_figure().savefig(\"Results/\" + experiment + \"/\" + experiment + \".png\")"
   ]
  },
  {
   "cell_type": "code",
   "execution_count": null,
   "metadata": {},
   "outputs": [],
   "source": []
  }
 ],
 "metadata": {
  "kernelspec": {
   "display_name": "Python 3",
   "language": "python",
   "name": "python3"
  },
  "language_info": {
   "codemirror_mode": {
    "name": "ipython",
    "version": 3
   },
   "file_extension": ".py",
   "mimetype": "text/x-python",
   "name": "python",
   "nbconvert_exporter": "python",
   "pygments_lexer": "ipython3",
   "version": "3.7.4"
  }
 },
 "nbformat": 4,
 "nbformat_minor": 2
}
