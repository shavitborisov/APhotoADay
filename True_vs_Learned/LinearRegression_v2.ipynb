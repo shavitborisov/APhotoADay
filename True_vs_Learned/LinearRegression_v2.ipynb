{
 "cells": [
  {
   "cell_type": "code",
   "execution_count": 5,
   "metadata": {},
   "outputs": [],
   "source": [
    "from IPython.display import Markdown, display\n",
    "import os"
   ]
  },
  {
   "cell_type": "code",
   "execution_count": 6,
   "metadata": {},
   "outputs": [],
   "source": [
    "def printmd(string, color=None):\n",
    "    colorstr = \"<span style='color:{}'>{}</span>\".format(color, string)\n",
    "    display(Markdown(colorstr))"
   ]
  },
  {
   "cell_type": "code",
   "execution_count": 10,
   "metadata": {},
   "outputs": [
    {
     "name": "stdin",
     "output_type": "stream",
     "text": [
      "Enter regressions type:  0\n",
      "Enter regression method [0-Default, 1-Offset]:  0\n",
      "Enter number of dimensions:  0\n",
      "Enter dataset [0-Data, 1-Input]:  0\n"
     ]
    },
    {
     "data": {
      "text/markdown": [
       "<span style='color:red'>\n",
       "\n",
       "**Running experiment: 0_0_regression_0_dimensions_0_dataset**</span>"
      ],
      "text/plain": [
       "<IPython.core.display.Markdown object>"
      ]
     },
     "metadata": {},
     "output_type": "display_data"
    }
   ],
   "source": [
    "# Receive input\n",
    "\n",
    "os.chdir(\"/home/shavit/APhotoADay/True_vs_Learned\")\n",
    "\n",
    "regression_type = int(input(\"Enter regressions type: \"))\n",
    "regression_method = int(input(\"Enter regression method [0-Default, 1-Offset]: \"))\n",
    "num_dimensions = int(input(\"Enter number of dimensions: \"))\n",
    "dataset = int(input(\"Enter dataset [0-Data, 1-Input]: \"))\n",
    "\n",
    "experiment = str(str(regression_type) + \"_\" + str(regression_method) + \"_regression_\" + str(num_dimensions) + \"_dimensions_\" + str(dataset) + \"_dataset\")\n",
    "\n",
    "printmd(\"\\n\\n**Running experiment: \" + experiment + \"**\", color=\"red\")\n",
    "\n",
    "# if not os.path.exists(\"RegressionResults/\" + experiment):\n",
    "#     os.mkdir(\"RegressionResults/\" + experiment)"
   ]
  },
  {
   "cell_type": "code",
   "execution_count": 4,
   "metadata": {},
   "outputs": [
    {
     "data": {
      "application/vnd.jupyter.widget-view+json": {
       "model_id": "07e8b6238b154a38ab4f31645e01fef6",
       "version_major": 2,
       "version_minor": 0
      },
      "text/plain": [
       "IntSlider(value=2)"
      ]
     },
     "metadata": {},
     "output_type": "display_data"
    }
   ],
   "source": [
    "import ipywidgets as widgets\n",
    "from IPython.display import display\n",
    "\n",
    "def f(x):\n",
    "    return x\n",
    "\n",
    "w = widgets.IntSlider(2)\n",
    "display(w)"
   ]
  },
  {
   "cell_type": "code",
   "execution_count": null,
   "metadata": {},
   "outputs": [],
   "source": []
  }
 ],
 "metadata": {
  "kernelspec": {
   "display_name": "Python 3",
   "language": "python",
   "name": "python3"
  },
  "language_info": {
   "codemirror_mode": {
    "name": "ipython",
    "version": 3
   },
   "file_extension": ".py",
   "mimetype": "text/x-python",
   "name": "python",
   "nbconvert_exporter": "python",
   "pygments_lexer": "ipython3",
   "version": "3.6.9"
  }
 },
 "nbformat": 4,
 "nbformat_minor": 4
}
