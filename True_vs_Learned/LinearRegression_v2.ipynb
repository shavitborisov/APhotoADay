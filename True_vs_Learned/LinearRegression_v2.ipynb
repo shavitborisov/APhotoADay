{
 "cells": [
  {
   "cell_type": "code",
   "execution_count": null,
   "metadata": {},
   "outputs": [],
   "source": [
    "# Receive input\n",
    "\n",
    "os.chdir(\"/home/bobby/APhotoADay/True_vs_Learned\")\n",
    "\n",
    "# real_data_path = \"real_data\" # input(\"Enter path for real data: \")\n",
    "# real_latent_path = \"real_latent\" # input(\"Enter path for real latent: \")\n",
    "# num_of_vid = input(\"Enter video number: \")\n",
    "# start_age = int(input(\"Enter start age (days): \"))\n",
    "# end_age = int(input(\"Enter end age (days): \"))\n",
    "# averaging_ratio = int(input(\"Enter averaging ratio (# photos per batch): \"))\n",
    "# num_dimensions = int(input(\"Enter npy dimensions [0-default]: \"))\n",
    "# method = int(input(\"Choose interpolator [0-standard, 1-puzer, 2-linear_regression]: \")) % 3\n",
    "\n",
    "regression_type = \n",
    "num_dimensions = int(input(\"Enter number of dimensions: \"))\n",
    "\n",
    "experiment = \"video\" + num_of_vid + \"_plot_\" + str(start_age) + \"_to_\" + str(end_age) + \"_batch=\" + str(averaging_ratio) + \"_dimensions=\" + (\"default\" if (num_dimensions == 0) else str(num_dimensions)) + \"_method=\" + (\"standard\" if (method == 0) else (\"puzer\" if (method == 1) else \"regression\"))\n",
    "printmd(\"\\n\\n**Running experiment: \" + experiment + \"**\", color=\"blue\")\n",
    "\n",
    "if not os.path.exists(\"RegressionResults/\" + experiment):\n",
    "    os.mkdir(\"RegressionResults/\" + experiment)"
   ]
  },
  {
   "cell_type": "code",
   "execution_count": 9,
   "metadata": {},
   "outputs": [
    {
     "data": {
      "application/vnd.jupyter.widget-view+json": {
       "model_id": "0e8b61a9052248b59bd9010334141756",
       "version_major": 2,
       "version_minor": 0
      },
      "text/plain": [
       "IntSlider(value=0)"
      ]
     },
     "metadata": {},
     "output_type": "display_data"
    }
   ],
   "source": [
    "from __future__ import print_function\n",
    "from ipywidgets import interact, interactive, fixed, interact_manual\n",
    "import ipywidgets as widgets\n",
    "\n",
    "def f(x):\n",
    "    return x\n",
    "\n",
    "w = widgets.IntSlider()\n",
    "display(w)"
   ]
  },
  {
   "cell_type": "code",
   "execution_count": null,
   "metadata": {},
   "outputs": [],
   "source": []
  }
 ],
 "metadata": {
  "kernelspec": {
   "display_name": "Python 3",
   "language": "python",
   "name": "python3"
  },
  "language_info": {
   "codemirror_mode": {
    "name": "ipython",
    "version": 3
   },
   "file_extension": ".py",
   "mimetype": "text/x-python",
   "name": "python",
   "nbconvert_exporter": "python",
   "pygments_lexer": "ipython3",
   "version": "3.6.9"
  }
 },
 "nbformat": 4,
 "nbformat_minor": 4
}
