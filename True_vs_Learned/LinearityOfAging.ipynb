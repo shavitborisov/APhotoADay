{
 "cells": [
  {
   "cell_type": "code",
   "execution_count": 170,
   "metadata": {},
   "outputs": [],
   "source": [
    "import os\n",
    "import pickle\n",
    "import PIL.Image\n",
    "import numpy as np\n",
    "import pandas as pd\n",
    "import csv\n",
    "import sys\n",
    "\n",
    "import matplotlib.pyplot as plt\n",
    "%matplotlib inline\n",
    "\n",
    "# path to stylegan encoder locally\n",
    "sys.path.insert(1, '/home/bobby/APhotoADay/data/stylegan-encoder')\n",
    "\n",
    "import dnnlib\n",
    "import dnnlib.tflib as tflib\n",
    "import config\n",
    "from encoder.generator_model import Generator\n",
    "\n",
    "# path to puzer's age direction\n",
    "puzer_age_direction = np.load(\"puzer_age_direction.npy\")\n",
    "\n",
    "from IPython.display import Markdown, display"
   ]
  },
  {
   "cell_type": "code",
   "execution_count": 171,
   "metadata": {},
   "outputs": [],
   "source": [
    "def printmd(string, color=None):\n",
    "    colorstr = \"<span style='color:{}'>{}</span>\".format(color, string)\n",
    "    display(Markdown(colorstr))"
   ]
  },
  {
   "cell_type": "code",
   "execution_count": 172,
   "metadata": {},
   "outputs": [
    {
     "ename": "ValueError",
     "evalue": "Variable learnable_dlatents already exists, disallowed. Did you mean to set reuse=True or reuse=tf.AUTO_REUSE in VarScope? Originally defined at:\n\n  File \"/home/bobby/APhotoADay/data/stylegan-encoder/encoder/generator_model.py\", line 15, in create_variable_for_generator\n    initializer=tf.initializers.random_normal())\n  File \"/home/bobby/APhotoADay/data/stylegan-encoder/dnnlib/tflib/network.py\", line 406, in <listcomp>\n    in_expr = [input_builder(name) for input_builder, name in zip(custom_inputs, self.input_names)]\n  File \"/home/bobby/APhotoADay/data/stylegan-encoder/dnnlib/tflib/network.py\", line 406, in run\n    in_expr = [input_builder(name) for input_builder, name in zip(custom_inputs, self.input_names)]\n  File \"/home/bobby/APhotoADay/data/stylegan-encoder/encoder/generator_model.py\", line 27, in __init__\n    structure='fixed')\n  File \"<ipython-input-3-5b8e6e491508>\", line 7, in <module>\n    generator = Generator(Gs_network, batch_size=1, randomize_noise=False)\n",
     "output_type": "error",
     "traceback": [
      "\u001b[0;31m---------------------------------------------------------------------------\u001b[0m",
      "\u001b[0;31mValueError\u001b[0m                                Traceback (most recent call last)",
      "\u001b[0;32m<ipython-input-172-5b8e6e491508>\u001b[0m in \u001b[0;36m<module>\u001b[0;34m\u001b[0m\n\u001b[1;32m      5\u001b[0m     \u001b[0mgenerator_network\u001b[0m\u001b[0;34m,\u001b[0m \u001b[0mdiscriminator_network\u001b[0m\u001b[0;34m,\u001b[0m \u001b[0mGs_network\u001b[0m \u001b[0;34m=\u001b[0m \u001b[0mpickle\u001b[0m\u001b[0;34m.\u001b[0m\u001b[0mload\u001b[0m\u001b[0;34m(\u001b[0m\u001b[0mf\u001b[0m\u001b[0;34m)\u001b[0m\u001b[0;34m\u001b[0m\u001b[0;34m\u001b[0m\u001b[0m\n\u001b[1;32m      6\u001b[0m \u001b[0;34m\u001b[0m\u001b[0m\n\u001b[0;32m----> 7\u001b[0;31m \u001b[0mgenerator\u001b[0m \u001b[0;34m=\u001b[0m \u001b[0mGenerator\u001b[0m\u001b[0;34m(\u001b[0m\u001b[0mGs_network\u001b[0m\u001b[0;34m,\u001b[0m \u001b[0mbatch_size\u001b[0m\u001b[0;34m=\u001b[0m\u001b[0;36m1\u001b[0m\u001b[0;34m,\u001b[0m \u001b[0mrandomize_noise\u001b[0m\u001b[0;34m=\u001b[0m\u001b[0;32mFalse\u001b[0m\u001b[0;34m)\u001b[0m\u001b[0;34m\u001b[0m\u001b[0;34m\u001b[0m\u001b[0m\n\u001b[0m",
      "\u001b[0;32m~/APhotoADay/data/stylegan-encoder/encoder/generator_model.py\u001b[0m in \u001b[0;36m__init__\u001b[0;34m(self, model, batch_size, randomize_noise)\u001b[0m\n\u001b[1;32m     25\u001b[0m                                        custom_inputs=[partial(create_variable_for_generator, batch_size=batch_size),\n\u001b[1;32m     26\u001b[0m                                                       partial(create_stub, batch_size=batch_size)],\n\u001b[0;32m---> 27\u001b[0;31m                                        structure='fixed')\n\u001b[0m\u001b[1;32m     28\u001b[0m \u001b[0;34m\u001b[0m\u001b[0m\n\u001b[1;32m     29\u001b[0m         \u001b[0mself\u001b[0m\u001b[0;34m.\u001b[0m\u001b[0msess\u001b[0m \u001b[0;34m=\u001b[0m \u001b[0mtf\u001b[0m\u001b[0;34m.\u001b[0m\u001b[0mget_default_session\u001b[0m\u001b[0;34m(\u001b[0m\u001b[0;34m)\u001b[0m\u001b[0;34m\u001b[0m\u001b[0;34m\u001b[0m\u001b[0m\n",
      "\u001b[0;32m~/APhotoADay/data/stylegan-encoder/dnnlib/tflib/network.py\u001b[0m in \u001b[0;36mrun\u001b[0;34m(self, input_transform, output_transform, return_as_list, print_progress, minibatch_size, num_gpus, assume_frozen, custom_inputs, *in_arrays, **dynamic_kwargs)\u001b[0m\n\u001b[1;32m    404\u001b[0m                 \u001b[0;32mif\u001b[0m \u001b[0mcustom_inputs\u001b[0m \u001b[0;32mis\u001b[0m \u001b[0;32mnot\u001b[0m \u001b[0;32mNone\u001b[0m\u001b[0;34m:\u001b[0m\u001b[0;34m\u001b[0m\u001b[0;34m\u001b[0m\u001b[0m\n\u001b[1;32m    405\u001b[0m                     \u001b[0;32mwith\u001b[0m \u001b[0mtf\u001b[0m\u001b[0;34m.\u001b[0m\u001b[0mdevice\u001b[0m\u001b[0;34m(\u001b[0m\u001b[0;34m\"/gpu:0\"\u001b[0m\u001b[0;34m)\u001b[0m\u001b[0;34m:\u001b[0m\u001b[0;34m\u001b[0m\u001b[0;34m\u001b[0m\u001b[0m\n\u001b[0;32m--> 406\u001b[0;31m                         \u001b[0min_expr\u001b[0m \u001b[0;34m=\u001b[0m \u001b[0;34m[\u001b[0m\u001b[0minput_builder\u001b[0m\u001b[0;34m(\u001b[0m\u001b[0mname\u001b[0m\u001b[0;34m)\u001b[0m \u001b[0;32mfor\u001b[0m \u001b[0minput_builder\u001b[0m\u001b[0;34m,\u001b[0m \u001b[0mname\u001b[0m \u001b[0;32min\u001b[0m \u001b[0mzip\u001b[0m\u001b[0;34m(\u001b[0m\u001b[0mcustom_inputs\u001b[0m\u001b[0;34m,\u001b[0m \u001b[0mself\u001b[0m\u001b[0;34m.\u001b[0m\u001b[0minput_names\u001b[0m\u001b[0;34m)\u001b[0m\u001b[0;34m]\u001b[0m\u001b[0;34m\u001b[0m\u001b[0;34m\u001b[0m\u001b[0m\n\u001b[0m\u001b[1;32m    407\u001b[0m                         \u001b[0min_split\u001b[0m \u001b[0;34m=\u001b[0m \u001b[0mlist\u001b[0m\u001b[0;34m(\u001b[0m\u001b[0mzip\u001b[0m\u001b[0;34m(\u001b[0m\u001b[0;34m*\u001b[0m\u001b[0;34m[\u001b[0m\u001b[0mtf\u001b[0m\u001b[0;34m.\u001b[0m\u001b[0msplit\u001b[0m\u001b[0;34m(\u001b[0m\u001b[0mx\u001b[0m\u001b[0;34m,\u001b[0m \u001b[0mnum_gpus\u001b[0m\u001b[0;34m)\u001b[0m \u001b[0;32mfor\u001b[0m \u001b[0mx\u001b[0m \u001b[0;32min\u001b[0m \u001b[0min_expr\u001b[0m\u001b[0;34m]\u001b[0m\u001b[0;34m)\u001b[0m\u001b[0;34m)\u001b[0m\u001b[0;34m\u001b[0m\u001b[0;34m\u001b[0m\u001b[0m\n\u001b[1;32m    408\u001b[0m                 \u001b[0;32melse\u001b[0m\u001b[0;34m:\u001b[0m\u001b[0;34m\u001b[0m\u001b[0;34m\u001b[0m\u001b[0m\n",
      "\u001b[0;32m~/APhotoADay/data/stylegan-encoder/dnnlib/tflib/network.py\u001b[0m in \u001b[0;36m<listcomp>\u001b[0;34m(.0)\u001b[0m\n\u001b[1;32m    404\u001b[0m                 \u001b[0;32mif\u001b[0m \u001b[0mcustom_inputs\u001b[0m \u001b[0;32mis\u001b[0m \u001b[0;32mnot\u001b[0m \u001b[0;32mNone\u001b[0m\u001b[0;34m:\u001b[0m\u001b[0;34m\u001b[0m\u001b[0;34m\u001b[0m\u001b[0m\n\u001b[1;32m    405\u001b[0m                     \u001b[0;32mwith\u001b[0m \u001b[0mtf\u001b[0m\u001b[0;34m.\u001b[0m\u001b[0mdevice\u001b[0m\u001b[0;34m(\u001b[0m\u001b[0;34m\"/gpu:0\"\u001b[0m\u001b[0;34m)\u001b[0m\u001b[0;34m:\u001b[0m\u001b[0;34m\u001b[0m\u001b[0;34m\u001b[0m\u001b[0m\n\u001b[0;32m--> 406\u001b[0;31m                         \u001b[0min_expr\u001b[0m \u001b[0;34m=\u001b[0m \u001b[0;34m[\u001b[0m\u001b[0minput_builder\u001b[0m\u001b[0;34m(\u001b[0m\u001b[0mname\u001b[0m\u001b[0;34m)\u001b[0m \u001b[0;32mfor\u001b[0m \u001b[0minput_builder\u001b[0m\u001b[0;34m,\u001b[0m \u001b[0mname\u001b[0m \u001b[0;32min\u001b[0m \u001b[0mzip\u001b[0m\u001b[0;34m(\u001b[0m\u001b[0mcustom_inputs\u001b[0m\u001b[0;34m,\u001b[0m \u001b[0mself\u001b[0m\u001b[0;34m.\u001b[0m\u001b[0minput_names\u001b[0m\u001b[0;34m)\u001b[0m\u001b[0;34m]\u001b[0m\u001b[0;34m\u001b[0m\u001b[0;34m\u001b[0m\u001b[0m\n\u001b[0m\u001b[1;32m    407\u001b[0m                         \u001b[0min_split\u001b[0m \u001b[0;34m=\u001b[0m \u001b[0mlist\u001b[0m\u001b[0;34m(\u001b[0m\u001b[0mzip\u001b[0m\u001b[0;34m(\u001b[0m\u001b[0;34m*\u001b[0m\u001b[0;34m[\u001b[0m\u001b[0mtf\u001b[0m\u001b[0;34m.\u001b[0m\u001b[0msplit\u001b[0m\u001b[0;34m(\u001b[0m\u001b[0mx\u001b[0m\u001b[0;34m,\u001b[0m \u001b[0mnum_gpus\u001b[0m\u001b[0;34m)\u001b[0m \u001b[0;32mfor\u001b[0m \u001b[0mx\u001b[0m \u001b[0;32min\u001b[0m \u001b[0min_expr\u001b[0m\u001b[0;34m]\u001b[0m\u001b[0;34m)\u001b[0m\u001b[0;34m)\u001b[0m\u001b[0;34m\u001b[0m\u001b[0;34m\u001b[0m\u001b[0m\n\u001b[1;32m    408\u001b[0m                 \u001b[0;32melse\u001b[0m\u001b[0;34m:\u001b[0m\u001b[0;34m\u001b[0m\u001b[0;34m\u001b[0m\u001b[0m\n",
      "\u001b[0;32m~/APhotoADay/data/stylegan-encoder/encoder/generator_model.py\u001b[0m in \u001b[0;36mcreate_variable_for_generator\u001b[0;34m(name, batch_size)\u001b[0m\n\u001b[1;32m     13\u001b[0m                            \u001b[0mshape\u001b[0m\u001b[0;34m=\u001b[0m\u001b[0;34m(\u001b[0m\u001b[0mbatch_size\u001b[0m\u001b[0;34m,\u001b[0m \u001b[0;36m18\u001b[0m\u001b[0;34m,\u001b[0m \u001b[0;36m512\u001b[0m\u001b[0;34m)\u001b[0m\u001b[0;34m,\u001b[0m\u001b[0;34m\u001b[0m\u001b[0;34m\u001b[0m\u001b[0m\n\u001b[1;32m     14\u001b[0m                            \u001b[0mdtype\u001b[0m\u001b[0;34m=\u001b[0m\u001b[0;34m'float32'\u001b[0m\u001b[0;34m,\u001b[0m\u001b[0;34m\u001b[0m\u001b[0;34m\u001b[0m\u001b[0m\n\u001b[0;32m---> 15\u001b[0;31m                            initializer=tf.initializers.random_normal())\n\u001b[0m\u001b[1;32m     16\u001b[0m \u001b[0;34m\u001b[0m\u001b[0m\n\u001b[1;32m     17\u001b[0m \u001b[0;34m\u001b[0m\u001b[0m\n",
      "\u001b[0;32m~/miniconda3/lib/python3.7/site-packages/tensorflow/python/ops/variable_scope.py\u001b[0m in \u001b[0;36mget_variable\u001b[0;34m(name, shape, dtype, initializer, regularizer, trainable, collections, caching_device, partitioner, validate_shape, use_resource, custom_getter, constraint, synchronization, aggregation)\u001b[0m\n\u001b[1;32m   1494\u001b[0m       \u001b[0mconstraint\u001b[0m\u001b[0;34m=\u001b[0m\u001b[0mconstraint\u001b[0m\u001b[0;34m,\u001b[0m\u001b[0;34m\u001b[0m\u001b[0;34m\u001b[0m\u001b[0m\n\u001b[1;32m   1495\u001b[0m       \u001b[0msynchronization\u001b[0m\u001b[0;34m=\u001b[0m\u001b[0msynchronization\u001b[0m\u001b[0;34m,\u001b[0m\u001b[0;34m\u001b[0m\u001b[0;34m\u001b[0m\u001b[0m\n\u001b[0;32m-> 1496\u001b[0;31m       aggregation=aggregation)\n\u001b[0m\u001b[1;32m   1497\u001b[0m \u001b[0;34m\u001b[0m\u001b[0m\n\u001b[1;32m   1498\u001b[0m \u001b[0;34m\u001b[0m\u001b[0m\n",
      "\u001b[0;32m~/miniconda3/lib/python3.7/site-packages/tensorflow/python/ops/variable_scope.py\u001b[0m in \u001b[0;36mget_variable\u001b[0;34m(self, var_store, name, shape, dtype, initializer, regularizer, reuse, trainable, collections, caching_device, partitioner, validate_shape, use_resource, custom_getter, constraint, synchronization, aggregation)\u001b[0m\n\u001b[1;32m   1237\u001b[0m           \u001b[0mconstraint\u001b[0m\u001b[0;34m=\u001b[0m\u001b[0mconstraint\u001b[0m\u001b[0;34m,\u001b[0m\u001b[0;34m\u001b[0m\u001b[0;34m\u001b[0m\u001b[0m\n\u001b[1;32m   1238\u001b[0m           \u001b[0msynchronization\u001b[0m\u001b[0;34m=\u001b[0m\u001b[0msynchronization\u001b[0m\u001b[0;34m,\u001b[0m\u001b[0;34m\u001b[0m\u001b[0;34m\u001b[0m\u001b[0m\n\u001b[0;32m-> 1239\u001b[0;31m           aggregation=aggregation)\n\u001b[0m\u001b[1;32m   1240\u001b[0m \u001b[0;34m\u001b[0m\u001b[0m\n\u001b[1;32m   1241\u001b[0m   def _get_partitioned_variable(self,\n",
      "\u001b[0;32m~/miniconda3/lib/python3.7/site-packages/tensorflow/python/ops/variable_scope.py\u001b[0m in \u001b[0;36mget_variable\u001b[0;34m(self, name, shape, dtype, initializer, regularizer, reuse, trainable, collections, caching_device, partitioner, validate_shape, use_resource, custom_getter, constraint, synchronization, aggregation)\u001b[0m\n\u001b[1;32m    560\u001b[0m           \u001b[0mconstraint\u001b[0m\u001b[0;34m=\u001b[0m\u001b[0mconstraint\u001b[0m\u001b[0;34m,\u001b[0m\u001b[0;34m\u001b[0m\u001b[0;34m\u001b[0m\u001b[0m\n\u001b[1;32m    561\u001b[0m           \u001b[0msynchronization\u001b[0m\u001b[0;34m=\u001b[0m\u001b[0msynchronization\u001b[0m\u001b[0;34m,\u001b[0m\u001b[0;34m\u001b[0m\u001b[0;34m\u001b[0m\u001b[0m\n\u001b[0;32m--> 562\u001b[0;31m           aggregation=aggregation)\n\u001b[0m\u001b[1;32m    563\u001b[0m \u001b[0;34m\u001b[0m\u001b[0m\n\u001b[1;32m    564\u001b[0m   def _get_partitioned_variable(self,\n",
      "\u001b[0;32m~/miniconda3/lib/python3.7/site-packages/tensorflow/python/ops/variable_scope.py\u001b[0m in \u001b[0;36m_true_getter\u001b[0;34m(name, shape, dtype, initializer, regularizer, reuse, trainable, collections, caching_device, partitioner, validate_shape, use_resource, constraint, synchronization, aggregation)\u001b[0m\n\u001b[1;32m    512\u001b[0m           \u001b[0mconstraint\u001b[0m\u001b[0;34m=\u001b[0m\u001b[0mconstraint\u001b[0m\u001b[0;34m,\u001b[0m\u001b[0;34m\u001b[0m\u001b[0;34m\u001b[0m\u001b[0m\n\u001b[1;32m    513\u001b[0m           \u001b[0msynchronization\u001b[0m\u001b[0;34m=\u001b[0m\u001b[0msynchronization\u001b[0m\u001b[0;34m,\u001b[0m\u001b[0;34m\u001b[0m\u001b[0;34m\u001b[0m\u001b[0m\n\u001b[0;32m--> 514\u001b[0;31m           aggregation=aggregation)\n\u001b[0m\u001b[1;32m    515\u001b[0m \u001b[0;34m\u001b[0m\u001b[0m\n\u001b[1;32m    516\u001b[0m     synchronization, aggregation, trainable = (\n",
      "\u001b[0;32m~/miniconda3/lib/python3.7/site-packages/tensorflow/python/ops/variable_scope.py\u001b[0m in \u001b[0;36m_get_single_variable\u001b[0;34m(self, name, shape, dtype, initializer, regularizer, partition_info, reuse, trainable, collections, caching_device, validate_shape, use_resource, constraint, synchronization, aggregation)\u001b[0m\n\u001b[1;32m    862\u001b[0m         \u001b[0mtb\u001b[0m \u001b[0;34m=\u001b[0m \u001b[0;34m[\u001b[0m\u001b[0mx\u001b[0m \u001b[0;32mfor\u001b[0m \u001b[0mx\u001b[0m \u001b[0;32min\u001b[0m \u001b[0mtb\u001b[0m \u001b[0;32mif\u001b[0m \u001b[0;34m\"tensorflow/python\"\u001b[0m \u001b[0;32mnot\u001b[0m \u001b[0;32min\u001b[0m \u001b[0mx\u001b[0m\u001b[0;34m[\u001b[0m\u001b[0;36m0\u001b[0m\u001b[0;34m]\u001b[0m\u001b[0;34m]\u001b[0m\u001b[0;34m[\u001b[0m\u001b[0;34m:\u001b[0m\u001b[0;36m5\u001b[0m\u001b[0;34m]\u001b[0m\u001b[0;34m\u001b[0m\u001b[0;34m\u001b[0m\u001b[0m\n\u001b[1;32m    863\u001b[0m         raise ValueError(\"%s Originally defined at:\\n\\n%s\" %\n\u001b[0;32m--> 864\u001b[0;31m                          (err_msg, \"\".join(traceback.format_list(tb))))\n\u001b[0m\u001b[1;32m    865\u001b[0m       \u001b[0mfound_var\u001b[0m \u001b[0;34m=\u001b[0m \u001b[0mself\u001b[0m\u001b[0;34m.\u001b[0m\u001b[0m_vars\u001b[0m\u001b[0;34m[\u001b[0m\u001b[0mname\u001b[0m\u001b[0;34m]\u001b[0m\u001b[0;34m\u001b[0m\u001b[0;34m\u001b[0m\u001b[0m\n\u001b[1;32m    866\u001b[0m       \u001b[0;32mif\u001b[0m \u001b[0;32mnot\u001b[0m \u001b[0mshape\u001b[0m\u001b[0;34m.\u001b[0m\u001b[0mis_compatible_with\u001b[0m\u001b[0;34m(\u001b[0m\u001b[0mfound_var\u001b[0m\u001b[0;34m.\u001b[0m\u001b[0mget_shape\u001b[0m\u001b[0;34m(\u001b[0m\u001b[0;34m)\u001b[0m\u001b[0;34m)\u001b[0m\u001b[0;34m:\u001b[0m\u001b[0;34m\u001b[0m\u001b[0;34m\u001b[0m\u001b[0m\n",
      "\u001b[0;31mValueError\u001b[0m: Variable learnable_dlatents already exists, disallowed. Did you mean to set reuse=True or reuse=tf.AUTO_REUSE in VarScope? Originally defined at:\n\n  File \"/home/bobby/APhotoADay/data/stylegan-encoder/encoder/generator_model.py\", line 15, in create_variable_for_generator\n    initializer=tf.initializers.random_normal())\n  File \"/home/bobby/APhotoADay/data/stylegan-encoder/dnnlib/tflib/network.py\", line 406, in <listcomp>\n    in_expr = [input_builder(name) for input_builder, name in zip(custom_inputs, self.input_names)]\n  File \"/home/bobby/APhotoADay/data/stylegan-encoder/dnnlib/tflib/network.py\", line 406, in run\n    in_expr = [input_builder(name) for input_builder, name in zip(custom_inputs, self.input_names)]\n  File \"/home/bobby/APhotoADay/data/stylegan-encoder/encoder/generator_model.py\", line 27, in __init__\n    structure='fixed')\n  File \"<ipython-input-3-5b8e6e491508>\", line 7, in <module>\n    generator = Generator(Gs_network, batch_size=1, randomize_noise=False)\n"
     ]
    }
   ],
   "source": [
    "URL_FFHQ = 'https://drive.google.com/uc?id=1MEGjdvVpUsu1jB4zrXZN7Y4kBBOzizDQ'\n",
    "\n",
    "tflib.init_tf()\n",
    "with dnnlib.util.open_url(URL_FFHQ, cache_dir=config.cache_dir) as f:\n",
    "    generator_network, discriminator_network, Gs_network = pickle.load(f)\n",
    "\n",
    "generator = Generator(Gs_network, batch_size=1, randomize_noise=False)"
   ]
  },
  {
   "cell_type": "code",
   "execution_count": null,
   "metadata": {},
   "outputs": [],
   "source": [
    "# Receive input\n",
    "\n",
    "os.chdir(\"/home/bobby/APhotoADay/True_vs_Learned\")\n",
    "\n",
    "real_data_path = \"real_data\" # input(\"Enter path for real data: \")\n",
    "real_latent_path = \"real_latent\" # input(\"Enter path for real latent: \")\n",
    "num_of_vid = input(\"Enter video number: \")\n",
    "start_age = int(input(\"Enter start age (days): \"))\n",
    "end_age = int(input(\"Enter end age (days): \"))\n",
    "averaging_ratio = int(input(\"Enter averaging ratio (# photos per batch): \"))\n",
    "num_dimensions = int(input(\"Enter npy dimensions [0-default]: \"))\n",
    "method = int(input(\"Choose interpolator [0-standard, 1-puzer]: \")) % 2\n",
    "\n",
    "experiment = \"video\" + num_of_vid + \"_plot_\" + str(start_age) + \"_to_\" + str(end_age) + \"_batch=\" + str(averaging_ratio) + \"_dimensions=\" + (\"default\" if (num_dimensions == 0) else str(num_dimensions)) + \"_method=\" + (\"standard\" if (method == 0) else \"puzer\")\n",
    "printmd(\"\\n\\n**Running experiment: \" + experiment + \"**\", color=\"blue\")\n",
    "\n",
    "if not os.path.exists(\"Results/\" + experiment):\n",
    "    os.mkdir(\"Results/\" + experiment)"
   ]
  },
  {
   "cell_type": "code",
   "execution_count": 183,
   "metadata": {},
   "outputs": [],
   "source": [
    "def findInterpolator(start, end):\n",
    "\n",
    "    def interpolator(coefficient):\n",
    "        return ((end - start) * coefficient) + start\n",
    "\n",
    "    return interpolator"
   ]
  },
  {
   "cell_type": "code",
   "execution_count": 184,
   "metadata": {},
   "outputs": [],
   "source": [
    "flatten = lambda l: [item for sublist in l for item in sublist]"
   ]
  },
  {
   "cell_type": "code",
   "execution_count": 185,
   "metadata": {},
   "outputs": [],
   "source": [
    "def findError(real, interpolator):\n",
    "    line = interpolator(1) - interpolator(0)\n",
    "    \n",
    "    normalizedLine = line * (1/np.linalg.norm(line))\n",
    "    \n",
    "    distanceLine = interpolator(0) - real - (np.dot((interpolator(0) - real), normalizedLine) * normalizedLine)\n",
    "    \n",
    "    return real + distanceLine, np.linalg.norm(distanceLine)"
   ]
  },
  {
   "cell_type": "code",
   "execution_count": 186,
   "metadata": {},
   "outputs": [],
   "source": [
    "def average(vectors):\n",
    "    return sum(vectors)/len(vectors)"
   ]
  },
  {
   "cell_type": "code",
   "execution_count": 187,
   "metadata": {},
   "outputs": [],
   "source": [
    "def reduceDimension(matrix, dimensionsToLeave):\n",
    "    \n",
    "    shape = matrix.shape\n",
    "    \n",
    "    if (dimensionsToLeave == 0):\n",
    "        return matrix, np.zeros(shape)\n",
    "    \n",
    "    matrix = matrix.flatten()\n",
    "    \n",
    "    aux = matrix\n",
    "    \n",
    "    for i in range(0, dimensionsToLeave * 512):\n",
    "        aux[i] = 0\n",
    "    \n",
    "    return np.reshape(matrix - aux, shape), np.reshape(aux, shape)\n",
    "\n",
    "def restoreDimension (matrix, truncated):\n",
    "    return matrix + truncated"
   ]
  },
  {
   "cell_type": "code",
   "execution_count": 188,
   "metadata": {
    "scrolled": false
   },
   "outputs": [],
   "source": [
    "# Create fake npy's and csv file\n",
    "\n",
    "fake_latent_path = \"fake_latent\" # input(\"Enter path for fake latent: \")\n",
    "\n",
    "if not os.path.exists(fake_latent_path):\n",
    "    os.mkdir(fake_latent_path)\n",
    "\n",
    "csv_file = \"Results/\" + experiment + \"/\" + experiment + \".csv\"\n",
    "\n",
    "real_latent_dir = os.listdir(real_latent_path)\n",
    "files = sorted(real_latent_dir, key=lambda x: int(os.path.splitext(x)[0]))\n",
    "\n",
    "start_age_npy, aux= reduceDimension (np.load(real_latent_path + \"/\" + str(start_age) + \".npy\"), num_dimensions)\n",
    "end_age_npy, aux = reduceDimension (np.load(real_latent_path + \"/\" + str(end_age) + \".npy\"), num_dimensions)\n",
    "\n",
    "if method == 0: # standard\n",
    "    interpolator = findInterpolator(start_age_npy.flatten(), end_age_npy.flatten())\n",
    "else:\n",
    "    interpolator = findInterpolator(start_age_npy.flatten(), (start_age_npy + puzer_age_direction).flatten())\n",
    "\n",
    "with open(csv_file, 'w', newline='') as file:\n",
    "    writer = csv.writer(file)\n",
    "    writer.writerow([\"Age\", \"MSE\"])\n",
    "    \n",
    "    #if averaging_ratio == 1:\n",
    "    #    for real_npy in files:\n",
    "    #        shape = np.load(real_latent_path + \"/\" + real_npy).shape   \n",
    "    #        fake_npy, MSE = findError(np.load(real_latent_path + \"/\" + real_npy).flatten(), interpolator, num_dimensions) # real should be latent\n",
    "    #        fake_npy_aux = np.reshape(fake_npy, shape)\n",
    "    #        np.save(fake_latent_path + \"/\" + real_npy, fake_npy_aux)\n",
    "    #        writer.writerow([real_npy[:-4], MSE])\n",
    "            \n",
    "    if averaging_ratio >= 1:\n",
    "        vectors_left = len(files)\n",
    "        batch = []\n",
    "        batch_average_age = 0\n",
    "        \n",
    "        for real_npy in files:\n",
    "            \n",
    "            if (len(batch) < averaging_ratio and vectors_left > 0):\n",
    "                batch.append(np.load(real_latent_path + \"/\" + real_npy).flatten())\n",
    "                batch_average_age += int(real_npy[:-4])\n",
    "                vectors_left -= 1\n",
    "                continue\n",
    "                \n",
    "            batch_average_age /= len(batch)\n",
    "            shape = np.load(real_latent_path + \"/\" + real_npy).shape\n",
    "            batch_aux, batch_truncated = reduceDimension(average(batch), num_dimensions)\n",
    "            fake_npy, MSE = findError(batch_aux.flatten(), interpolator)\n",
    "            fake_npy_aux = np.reshape(fake_npy, shape)\n",
    "            np.save(fake_latent_path + \"/\" + str(int(batch_average_age)) + \".npy\", fake_npy_aux + np.reshape(batch_truncated, shape))\n",
    "            writer.writerow([str(batch_average_age), MSE])\n",
    "            \n",
    "            batch = []\n",
    "            batch_average_age = 0"
   ]
  },
  {
   "cell_type": "code",
   "execution_count": 189,
   "metadata": {
    "scrolled": false
   },
   "outputs": [
    {
     "data": {
      "image/png": "[encoded data removed]",
      "text/plain": [
       "<Figure size 432x288 with 1 Axes>"
      ]
     },
     "metadata": {
      "needs_background": "light"
     },
     "output_type": "display_data"
    }
   ],
   "source": [
    "# Display and save plot\n",
    "\n",
    "data = pd.read_csv(csv_file).set_index('Age')\n",
    "data_plot = data.plot(title = \"Age vs Interpolation Error\", legend = None)\n",
    "\n",
    "data_plot.get_figure().savefig(\"Results/\" + experiment + \"/\" + experiment + \".png\")"
   ]
  },
  {
   "cell_type": "code",
   "execution_count": 190,
   "metadata": {},
   "outputs": [],
   "source": [
    "def generate_image(latent_vector, size):\n",
    "    latent_vector = latent_vector.reshape((1, 18, 512))\n",
    "    generator.set_dlatents(latent_vector)\n",
    "    img_array = generator.generate_images()[0]\n",
    "    img = PIL.Image.fromarray(img_array, 'RGB')\n",
    "    return img.resize((size, size))\n",
    "\n",
    "def show(latent_vector):\n",
    "    fig,ax = plt.subplots(1, len(coeffs), figsize=(15, 10), dpi=80)\n",
    "    ax[i].imshow(generate_image(latent_vector))\n",
    "    ax[i].set_title(latent_vector)\n",
    "    [x.axis('off') for x in ax]\n",
    "    plt.show()"
   ]
  },
  {
   "cell_type": "code",
   "execution_count": 191,
   "metadata": {},
   "outputs": [],
   "source": [
    "# Decode fakes\n",
    "\n",
    "fake_data_path = \"fake_data\" # input(\"Enter path for fake data: \")\n",
    "\n",
    "if not os.path.exists(fake_data_path):\n",
    "    os.mkdir(fake_data_path)\n",
    "\n",
    "for file in os.listdir(fake_latent_path):\n",
    "    img = generate_image(np.load(fake_latent_path + \"/\" + file), 1024)\n",
    "    img.save(fake_data_path + \"/\" + file[:-4] + \".png\")"
   ]
  },
  {
   "cell_type": "code",
   "execution_count": 148,
   "metadata": {},
   "outputs": [],
   "source": [
    "# Create videos\n",
    "\n",
    "from distutils.dir_util import copy_tree\n",
    "import shutil\n",
    "\n",
    "os.chdir(\"/home/bobby/APhotoADay/True_vs_Learned\")\n",
    "\n",
    "# Real video\n",
    "\n",
    "shutil.copytree(\"real_data\", \"real_temp\")\n",
    "# shutil.copytree(real_data_path, \"real_temp\")\n",
    "num_reals = len(next(os.walk(\"real_temp\"))[2])\n",
    "\n",
    "os.chdir(\"/home/bobby/APhotoADay/True_vs_Learned/real_temp\")\n",
    "\n",
    "os.system(\"python3 ../rename3.py . 0\")\n",
    "os.system(\"ffmpeg -f image2 -framerate 25 -pattern_type sequence -start_number 0 -r \" + str(num_reals / 6) \n",
    "          + \" -i %d.png -vcodec libx264 -acodec aac real_broken.mp4\")\n",
    "os.system(\"ffmpeg -i real_broken.mp4 -c:v libx264 -profile:v baseline -level 3.0 -pix_fmt yuv420p real.mp4\")\n",
    "\n",
    "shutil.copy('real.mp4', \"/home/bobby/APhotoADay/True_vs_Learned/Results/\" + experiment)\n",
    "\n",
    "os.chdir(\"/home/bobby/APhotoADay/True_vs_Learned\")\n",
    "shutil.rmtree(\"/home/bobby/APhotoADay/True_vs_Learned/real_temp\")\n",
    "\n",
    "os.chdir(\"/home/bobby/APhotoADay/True_vs_Learned\")\n",
    "\n",
    "# Fake video\n",
    "\n",
    "shutil.copytree(\"fake_data\", \"fake_temp\")\n",
    "# shutil.copytree(fake_data_path, \"fake_temp\")\n",
    "num_fakes = len(next(os.walk(\"fake_temp\"))[2])\n",
    "\n",
    "os.chdir(\"/home/bobby/APhotoADay/True_vs_Learned/fake_temp\")\n",
    "\n",
    "os.system(\"python3 ../rename3.py . 0\")\n",
    "os.system(\"ffmpeg -f image2 -framerate 25 -pattern_type sequence -start_number 0 -r \" + str(num_fakes / 6) \n",
    "          + \" -i %d.png -vcodec libx264 -acodec aac fake_broken.mp4\")\n",
    "os.system(\"ffmpeg -i fake_broken.mp4 -c:v libx264 -profile:v baseline -level 3.0 -pix_fmt yuv420p fake.mp4\")\n",
    "\n",
    "shutil.copy('fake.mp4', \"/home/bobby/APhotoADay/True_vs_Learned/Results/\" + experiment)\n",
    "\n",
    "os.chdir(\"/home/bobby/APhotoADay/True_vs_Learned\")\n",
    "shutil.rmtree(\"/home/bobby/APhotoADay/True_vs_Learned/fake_temp\")\n",
    "\n",
    "os.chdir(\"/home/bobby/APhotoADay/True_vs_Learned\")"
   ]
  },
  {
   "cell_type": "code",
   "execution_count": 102,
   "metadata": {},
   "outputs": [
    {
     "data": {
      "text/markdown": [
       "<span style='color:green'>\n",
       "\n",
       "**Experiment video1_plot_6940_to_8740_batch=10_dimensions=default_method=standard successfully finished**</span>"
      ],
      "text/plain": [
       "<IPython.core.display.Markdown object>"
      ]
     },
     "metadata": {},
     "output_type": "display_data"
    }
   ],
   "source": [
    "printmd(\"\\n\\n**Experiment \" + experiment + \" successfully finished**\", color=\"green\")"
   ]
  },
  {
   "cell_type": "code",
   "execution_count": null,
   "metadata": {},
   "outputs": [],
   "source": []
  }
 ],
 "metadata": {
  "kernelspec": {
   "display_name": "Python 3",
   "language": "python",
   "name": "python3"
  },
  "language_info": {
   "codemirror_mode": {
    "name": "ipython",
    "version": 3
   },
   "file_extension": ".py",
   "mimetype": "text/x-python",
   "name": "python",
   "nbconvert_exporter": "python",
   "pygments_lexer": "ipython3",
   "version": "3.7.4"
  }
 },
 "nbformat": 4,
 "nbformat_minor": 2
}
