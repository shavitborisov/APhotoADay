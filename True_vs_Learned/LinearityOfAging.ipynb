{
 "cells": [
  {
   "cell_type": "code",
   "execution_count": 2,
   "metadata": {},
   "outputs": [
    {
     "name": "stderr",
     "output_type": "stream",
     "text": [
      "/home/bobby/miniconda3/lib/python3.7/site-packages/tensorflow/python/framework/dtypes.py:516: FutureWarning: Passing (type, 1) or '1type' as a synonym of type is deprecated; in a future version of numpy, it will be understood as (type, (1,)) / '(1,)type'.\n",
      "  _np_qint8 = np.dtype([(\"qint8\", np.int8, 1)])\n",
      "/home/bobby/miniconda3/lib/python3.7/site-packages/tensorflow/python/framework/dtypes.py:517: FutureWarning: Passing (type, 1) or '1type' as a synonym of type is deprecated; in a future version of numpy, it will be understood as (type, (1,)) / '(1,)type'.\n",
      "  _np_quint8 = np.dtype([(\"quint8\", np.uint8, 1)])\n",
      "/home/bobby/miniconda3/lib/python3.7/site-packages/tensorflow/python/framework/dtypes.py:518: FutureWarning: Passing (type, 1) or '1type' as a synonym of type is deprecated; in a future version of numpy, it will be understood as (type, (1,)) / '(1,)type'.\n",
      "  _np_qint16 = np.dtype([(\"qint16\", np.int16, 1)])\n",
      "/home/bobby/miniconda3/lib/python3.7/site-packages/tensorflow/python/framework/dtypes.py:519: FutureWarning: Passing (type, 1) or '1type' as a synonym of type is deprecated; in a future version of numpy, it will be understood as (type, (1,)) / '(1,)type'.\n",
      "  _np_quint16 = np.dtype([(\"quint16\", np.uint16, 1)])\n",
      "/home/bobby/miniconda3/lib/python3.7/site-packages/tensorflow/python/framework/dtypes.py:520: FutureWarning: Passing (type, 1) or '1type' as a synonym of type is deprecated; in a future version of numpy, it will be understood as (type, (1,)) / '(1,)type'.\n",
      "  _np_qint32 = np.dtype([(\"qint32\", np.int32, 1)])\n",
      "/home/bobby/miniconda3/lib/python3.7/site-packages/tensorflow/python/framework/dtypes.py:525: FutureWarning: Passing (type, 1) or '1type' as a synonym of type is deprecated; in a future version of numpy, it will be understood as (type, (1,)) / '(1,)type'.\n",
      "  np_resource = np.dtype([(\"resource\", np.ubyte, 1)])\n"
     ]
    },
    {
     "name": "stdout",
     "output_type": "stream",
     "text": [
      "WARNING:tensorflow:From /home/bobby/APhotoADay/data/stylegan-encoder/dnnlib/tflib/tfutil.py:34: The name tf.Dimension is deprecated. Please use tf.compat.v1.Dimension instead.\n",
      "\n",
      "WARNING:tensorflow:From /home/bobby/APhotoADay/data/stylegan-encoder/dnnlib/tflib/tfutil.py:74: The name tf.variable_scope is deprecated. Please use tf.compat.v1.variable_scope instead.\n",
      "\n",
      "WARNING:tensorflow:From /home/bobby/APhotoADay/data/stylegan-encoder/dnnlib/tflib/tfutil.py:128: The name tf.Session is deprecated. Please use tf.compat.v1.Session instead.\n",
      "\n"
     ]
    },
    {
     "name": "stderr",
     "output_type": "stream",
     "text": [
      "/home/bobby/miniconda3/lib/python3.7/site-packages/tensorboard/compat/tensorflow_stub/dtypes.py:541: FutureWarning: Passing (type, 1) or '1type' as a synonym of type is deprecated; in a future version of numpy, it will be understood as (type, (1,)) / '(1,)type'.\n",
      "  _np_qint8 = np.dtype([(\"qint8\", np.int8, 1)])\n",
      "/home/bobby/miniconda3/lib/python3.7/site-packages/tensorboard/compat/tensorflow_stub/dtypes.py:542: FutureWarning: Passing (type, 1) or '1type' as a synonym of type is deprecated; in a future version of numpy, it will be understood as (type, (1,)) / '(1,)type'.\n",
      "  _np_quint8 = np.dtype([(\"quint8\", np.uint8, 1)])\n",
      "/home/bobby/miniconda3/lib/python3.7/site-packages/tensorboard/compat/tensorflow_stub/dtypes.py:543: FutureWarning: Passing (type, 1) or '1type' as a synonym of type is deprecated; in a future version of numpy, it will be understood as (type, (1,)) / '(1,)type'.\n",
      "  _np_qint16 = np.dtype([(\"qint16\", np.int16, 1)])\n",
      "/home/bobby/miniconda3/lib/python3.7/site-packages/tensorboard/compat/tensorflow_stub/dtypes.py:544: FutureWarning: Passing (type, 1) or '1type' as a synonym of type is deprecated; in a future version of numpy, it will be understood as (type, (1,)) / '(1,)type'.\n",
      "  _np_quint16 = np.dtype([(\"quint16\", np.uint16, 1)])\n",
      "/home/bobby/miniconda3/lib/python3.7/site-packages/tensorboard/compat/tensorflow_stub/dtypes.py:545: FutureWarning: Passing (type, 1) or '1type' as a synonym of type is deprecated; in a future version of numpy, it will be understood as (type, (1,)) / '(1,)type'.\n",
      "  _np_qint32 = np.dtype([(\"qint32\", np.int32, 1)])\n",
      "/home/bobby/miniconda3/lib/python3.7/site-packages/tensorboard/compat/tensorflow_stub/dtypes.py:550: FutureWarning: Passing (type, 1) or '1type' as a synonym of type is deprecated; in a future version of numpy, it will be understood as (type, (1,)) / '(1,)type'.\n",
      "  np_resource = np.dtype([(\"resource\", np.ubyte, 1)])\n"
     ]
    }
   ],
   "source": [
    "import os\n",
    "import pickle\n",
    "import PIL.Image\n",
    "import numpy as np\n",
    "import pandas as pd\n",
    "import csv\n",
    "import sys\n",
    "\n",
    "import matplotlib.pyplot as plt\n",
    "%matplotlib inline\n",
    "\n",
    "# path to stylegan encoder locally\n",
    "sys.path.insert(1, '/home/bobby/APhotoADay/data/stylegan-encoder')\n",
    "\n",
    "import dnnlib\n",
    "import dnnlib.tflib as tflib\n",
    "import config\n",
    "from encoder.generator_model import Generator\n",
    "\n",
    "# path to puzer's age direction\n",
    "puzer_age_direction = np.load(\"puzer_age_direction.npy\")\n",
    "\n",
    "from IPython.display import Markdown, display"
   ]
  },
  {
   "cell_type": "code",
   "execution_count": 6,
   "metadata": {},
   "outputs": [
    {
     "data": {
      "text/markdown": [
       "<span style='color:green'>**Running experiment: video1_plot_6940_to_8790_batch=25_dimensions=default_method=standard**</span>"
      ],
      "text/plain": [
       "<IPython.core.display.Markdown object>"
      ]
     },
     "metadata": {},
     "output_type": "display_data"
    }
   ],
   "source": [
    "def printmd(string, color=None):\n",
    "    colorstr = \"<span style='color:{}'>{}</span>\".format(color, string)\n",
    "    display(Markdown(colorstr))"
   ]
  },
  {
   "cell_type": "code",
   "execution_count": null,
   "metadata": {},
   "outputs": [
    {
     "name": "stdout",
     "output_type": "stream",
     "text": [
      "WARNING:tensorflow:From /home/bobby/APhotoADay/data/stylegan-encoder/dnnlib/tflib/tfutil.py:97: The name tf.get_default_session is deprecated. Please use tf.compat.v1.get_default_session instead.\n",
      "\n",
      "WARNING:tensorflow:From /home/bobby/APhotoADay/data/stylegan-encoder/dnnlib/tflib/tfutil.py:109: The name tf.set_random_seed is deprecated. Please use tf.compat.v1.set_random_seed instead.\n",
      "\n"
     ]
    }
   ],
   "source": [
    "URL_FFHQ = 'https://drive.google.com/uc?id=1MEGjdvVpUsu1jB4zrXZN7Y4kBBOzizDQ'\n",
    "\n",
    "tflib.init_tf()\n",
    "with dnnlib.util.open_url(URL_FFHQ, cache_dir=config.cache_dir) as f:\n",
    "    generator_network, discriminator_network, Gs_network = pickle.load(f)\n",
    "\n",
    "generator = Generator(Gs_network, batch_size=1, randomize_noise=False)"
   ]
  },
  {
   "cell_type": "code",
   "execution_count": 4,
   "metadata": {},
   "outputs": [
    {
     "name": "stdout",
     "output_type": "stream",
     "text": [
      "Enter video number: 1\n",
      "Enter start age (days): 6940\n",
      "Enter end age (days): 8790\n",
      "Enter averaging ratio (# photos per batch): 25\n",
      "Enter npy dimensions [0-default]: 0\n",
      "Choose interpolator [0-standard, 1-puzer]: 0\n"
     ]
    },
    {
     "data": {
      "text/markdown": [
       "\n",
       "**Running experiment: video1_plot_6940_to_8790_batch=25_dimensions=default_method=standard**"
      ],
      "text/plain": [
       "<IPython.core.display.Markdown object>"
      ]
     },
     "metadata": {},
     "output_type": "display_data"
    }
   ],
   "source": [
    "# Receive input\n",
    "\n",
    "os.chdir(\"/home/bobby/APhotoADay/True_vs_Learned\")\n",
    "\n",
    "real_data_path = \"real_data\" # input(\"Enter path for real data: \")\n",
    "real_latent_path = \"real_latent\" # input(\"Enter path for real latent: \")\n",
    "num_of_vid = input(\"Enter video number: \")\n",
    "start_age = int(input(\"Enter start age (days): \"))\n",
    "end_age = int(input(\"Enter end age (days): \"))\n",
    "averaging_ratio = int(input(\"Enter averaging ratio (# photos per batch): \"))\n",
    "num_dimensions = int(input(\"Enter npy dimensions [0-default]: \"))\n",
    "method = int(input(\"Choose interpolator [0-standard, 1-puzer]: \")) % 2\n",
    "\n",
    "experiment = \"video\" + num_of_vid + \"_plot_\" + str(start_age) + \"_to_\" + str(end_age) + \"_batch=\" + str(averaging_ratio) + \"_dimensions=\" + (\"default\" if (num_dimensions == 0) else str(num_dimensions)) + \"_method=\" + (\"standard\" if (method == 0) else \"puzer\")\n",
    "printmd(\"\\n**Running experiment: \" + experiment + \"**\", color=\"blue\")\n",
    "\n",
    "if not os.path.exists(\"Results/\" + experiment):\n",
    "    os.mkdir(\"Results/\" + experiment)"
   ]
  },
  {
   "cell_type": "code",
   "execution_count": 5,
   "metadata": {},
   "outputs": [],
   "source": [
    "def findInterpolator(start, end):\n",
    "\n",
    "    def interpolator(coefficient):\n",
    "        return ((end - start) * coefficient) + start\n",
    "\n",
    "    return interpolator"
   ]
  },
  {
   "cell_type": "code",
   "execution_count": 6,
   "metadata": {},
   "outputs": [],
   "source": [
    "flatten = lambda l: [item for sublist in l for item in sublist]"
   ]
  },
  {
   "cell_type": "code",
   "execution_count": 7,
   "metadata": {},
   "outputs": [],
   "source": [
    "def findError(real, interpolator):\n",
    "    line = interpolator(1) - interpolator(0)\n",
    "    \n",
    "    normalizedLine = line * (1/np.linalg.norm(line))\n",
    "    \n",
    "    distanceLine = interpolator(0) - real - (np.dot((interpolator(0) - real), normalizedLine) * normalizedLine)\n",
    "    \n",
    "    return real + distanceLine, np.linalg.norm(distanceLine)"
   ]
  },
  {
   "cell_type": "code",
   "execution_count": 8,
   "metadata": {},
   "outputs": [],
   "source": [
    "def average(vectors):\n",
    "    return sum(vectors)/len(vectors)"
   ]
  },
  {
   "cell_type": "code",
   "execution_count": 9,
   "metadata": {
    "scrolled": false
   },
   "outputs": [
    {
     "name": "stdout",
     "output_type": "stream",
     "text": [
      "Enter path for fake latent: fake_latent\n"
     ]
    }
   ],
   "source": [
    "# Create fake npy's and csv file\n",
    "\n",
    "fake_latent_path = \"fake_latent\" # input(\"Enter path for fake latent: \")\n",
    "\n",
    "if not os.path.exists(fake_latent_path):\n",
    "    os.mkdir(fake_latent_path)\n",
    "\n",
    "csv_file = \"Results/\" + experiment + \"/\" + experiment + \".csv\"\n",
    "\n",
    "real_latent_dir = os.listdir(real_latent_path)\n",
    "files = sorted(real_latent_dir, key=lambda x: int(os.path.splitext(x)[0]))\n",
    "\n",
    "start_age_npy = np.load(real_latent_path + \"/\" + str(start_age) + \".npy\")\n",
    "end_age_npy = np.load(real_latent_path + \"/\" + str(end_age) + \".npy\")\n",
    "\n",
    "if method == 0: # standard\n",
    "    interpolator = findInterpolator(start_age_npy.flatten(), end_age_npy.flatten())\n",
    "else:\n",
    "    interpolator = findInterpolator(start_age_npy.flatten(), (start_age_npy + puzer_age_direction).flatten())\n",
    "\n",
    "with open(csv_file, 'w', newline='') as file:\n",
    "    writer = csv.writer(file)\n",
    "    writer.writerow([\"Age\", \"MSE\"])\n",
    "    \n",
    "    if averaging_ratio == 1:\n",
    "        #i = 0\n",
    "        for real_npy in files:\n",
    "            shape = np.load(real_latent_path + \"/\" + real_npy).shape   \n",
    "            #test_npy = np.ones(shape) * i / len(files)\n",
    "            #i += 1\n",
    "            #fake_npy, MSE = findError(test_npy.flatten(), interpolator) # real should be latent\n",
    "            fake_npy, MSE = findError(np.load(real_latent_path + \"/\" + real_npy).flatten(), interpolator) # real should be latent\n",
    "            fake_npy_aux = np.reshape(fake_npy, shape)\n",
    "            np.save(fake_latent_path + \"/\" + real_npy, fake_npy_aux)\n",
    "            writer.writerow([real_npy[:-4], MSE])\n",
    "            \n",
    "    if averaging_ratio > 1:\n",
    "        \n",
    "        vectors_left = len(files)\n",
    "        batch = []\n",
    "        batch_average_age = 0\n",
    "        \n",
    "        for real_npy in files:\n",
    "            \n",
    "            if (len(batch) < averaging_ratio and vectors_left > 0):\n",
    "                batch.append(np.load(real_latent_path + \"/\" + real_npy).flatten())\n",
    "                batch_average_age += int(real_npy[:-4])\n",
    "                vectors_left -= 1\n",
    "                continue\n",
    "                \n",
    "            batch_average_age /= len(batch)\n",
    "            shape = np.load(real_latent_path + \"/\" + real_npy).shape\n",
    "            fake_npy, MSE = findError(average(batch), interpolator)\n",
    "            fake_npy_aux = np.reshape(fake_npy, shape)\n",
    "            np.save(fake_latent_path + \"/\" + str(int(batch_average_age)) + \".npy\", fake_npy_aux)\n",
    "            writer.writerow([str(batch_average_age), MSE])\n",
    "            \n",
    "            batch = []\n",
    "            batch_average_age = 0"
   ]
  },
  {
   "cell_type": "code",
   "execution_count": 10,
   "metadata": {
    "scrolled": false
   },
   "outputs": [
    {
     "data": {
      "image/png": "[encoded data removed]",
      "text/plain": [
       "<Figure size 432x288 with 1 Axes>"
      ]
     },
     "metadata": {
      "needs_background": "light"
     },
     "output_type": "display_data"
    }
   ],
   "source": [
    "# Display and save plot\n",
    "\n",
    "data = pd.read_csv(csv_file).set_index('Age')\n",
    "data_plot = data.plot(title = \"Age vs Interpolation Error\", legend = None)\n",
    "\n",
    "data_plot.get_figure().savefig(\"Results/\" + experiment + \"/\" + experiment + \".png\")"
   ]
  },
  {
   "cell_type": "code",
   "execution_count": 11,
   "metadata": {},
   "outputs": [],
   "source": [
    "def generate_image(latent_vector, size):\n",
    "    latent_vector = latent_vector.reshape((1, 18, 512))\n",
    "    generator.set_dlatents(latent_vector)\n",
    "    img_array = generator.generate_images()[0]\n",
    "    img = PIL.Image.fromarray(img_array, 'RGB')\n",
    "    return img.resize((size, size))\n",
    "\n",
    "def show(latent_vector):\n",
    "    fig,ax = plt.subplots(1, len(coeffs), figsize=(15, 10), dpi=80)\n",
    "    ax[i].imshow(generate_image(latent_vector))\n",
    "    ax[i].set_title(latent_vector)\n",
    "    [x.axis('off') for x in ax]\n",
    "    plt.show()"
   ]
  },
  {
   "cell_type": "code",
   "execution_count": 12,
   "metadata": {},
   "outputs": [
    {
     "name": "stdout",
     "output_type": "stream",
     "text": [
      "Enter path for fake data: fake_data\n"
     ]
    }
   ],
   "source": [
    "# Decode fakes\n",
    "\n",
    "fake_data_path = \"fake_data\" # input(\"Enter path for fake data: \")\n",
    "\n",
    "if not os.path.exists(fake_data_path):\n",
    "    os.mkdir(fake_data_path)\n",
    "\n",
    "for file in os.listdir(fake_latent_path):\n",
    "    img = generate_image(np.load(fake_latent_path + \"/\" + file), 1024)\n",
    "    img.save(fake_data_path + \"/\" + file[:-4] + \".png\")"
   ]
  },
  {
   "cell_type": "code",
   "execution_count": 6,
   "metadata": {},
   "outputs": [
    {
     "name": "stdout",
     "output_type": "stream",
     "text": [
      "/home/bobby/APhotoADay/True_vs_Learned\n",
      "/home/bobby/APhotoADay/True_vs_Learned\n"
     ]
    }
   ],
   "source": [
    "# Create videos\n",
    "\n",
    "from distutils.dir_util import copy_tree\n",
    "import shutil\n",
    "\n",
    "os.chdir(\"/home/bobby/APhotoADay/True_vs_Learned\")\n",
    "\n",
    "# Real video\n",
    "\n",
    "shutil.copytree(\"real_data\", \"real_temp\")\n",
    "# shutil.copytree(real_data_path, \"real_temp\")\n",
    "num_reals = len(next(os.walk(\"real_temp\"))[2])\n",
    "\n",
    "os.chdir(\"/home/bobby/APhotoADay/True_vs_Learned/real_temp\")\n",
    "\n",
    "os.system(\"python3 ../rename3.py . 0\")\n",
    "os.system(\"ffmpeg -f image2 -framerate 25 -pattern_type sequence -start_number 0 -r \" + str(num_reals / 6) \n",
    "          + \" -i %d.png -vcodec libx264 -acodec aac real_broken.mp4\")\n",
    "os.system(\"ffmpeg -i real_broken.mp4 -c:v libx264 -profile:v baseline -level 3.0 -pix_fmt yuv420p real.mp4\")\n",
    "\n",
    "shutil.copy('real.mp4', \"/home/bobby/APhotoADay/True_vs_Learned/Results/\" + experiment)\n",
    "\n",
    "os.chdir(\"/home/bobby/APhotoADay/True_vs_Learned\")\n",
    "shutil.rmtree(\"/home/bobby/APhotoADay/True_vs_Learned/real_temp\")\n",
    "\n",
    "os.chdir(\"/home/bobby/APhotoADay/True_vs_Learned\")\n",
    "\n",
    "# Fake video\n",
    "\n",
    "shutil.copytree(\"fake_data\", \"fake_temp\")\n",
    "# shutil.copytree(fake_data_path, \"fake_temp\")\n",
    "num_fakes = len(next(os.walk(\"fake_temp\"))[2])\n",
    "\n",
    "os.chdir(\"/home/bobby/APhotoADay/True_vs_Learned/fake_temp\")\n",
    "\n",
    "os.system(\"python3 ../rename3.py . 0\")\n",
    "os.system(\"ffmpeg -f image2 -framerate 25 -pattern_type sequence -start_number 0 -r \" + str(num_fakes / 6) \n",
    "          + \" -i %d.png -vcodec libx264 -acodec aac fake_broken.mp4\")\n",
    "os.system(\"ffmpeg -i fake_broken.mp4 -c:v libx264 -profile:v baseline -level 3.0 -pix_fmt yuv420p fake.mp4\")\n",
    "\n",
    "shutil.copy('fake.mp4', \"/home/bobby/APhotoADay/True_vs_Learned/Results/\" + experiment)\n",
    "\n",
    "os.chdir(\"/home/bobby/APhotoADay/True_vs_Learned\")\n",
    "shutil.rmtree(\"/home/bobby/APhotoADay/True_vs_Learned/fake_temp\")\n",
    "\n",
    "os.chdir(\"/home/bobby/APhotoADay/True_vs_Learned\")"
   ]
  },
  {
   "cell_type": "code",
   "execution_count": 18,
   "metadata": {},
   "outputs": [
    {
     "data": {
      "text/markdown": [
       "<span style='color:red'>\n",
       "\n",
       "**Experiment video1_plot_6940_to_8790_batch=25_dimensions=default_method=standard successfully finished**</span>"
      ],
      "text/plain": [
       "<IPython.core.display.Markdown object>"
      ]
     },
     "metadata": {},
     "output_type": "display_data"
    }
   ],
   "source": [
    "printmd(\"\\n\\n**Experiment \" + experiment + \" successfully finished**\", color=\"green\")"
   ]
  },
  {
   "cell_type": "code",
   "execution_count": null,
   "metadata": {},
   "outputs": [],
   "source": []
  }
 ],
 "metadata": {
  "kernelspec": {
   "display_name": "Python 3",
   "language": "python",
   "name": "python3"
  },
  "language_info": {
   "codemirror_mode": {
    "name": "ipython",
    "version": 3
   },
   "file_extension": ".py",
   "mimetype": "text/x-python",
   "name": "python",
   "nbconvert_exporter": "python",
   "pygments_lexer": "ipython3",
   "version": "3.7.4"
  }
 },
 "nbformat": 4,
 "nbformat_minor": 2
}
